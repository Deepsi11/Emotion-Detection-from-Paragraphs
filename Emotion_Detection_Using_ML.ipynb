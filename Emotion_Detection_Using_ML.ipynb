{
  "nbformat": 4,
  "nbformat_minor": 0,
  "metadata": {
    "kernelspec": {
      "display_name": "Python 3",
      "language": "python",
      "name": "python3"
    },
    "language_info": {
      "codemirror_mode": {
        "name": "ipython",
        "version": 3
      },
      "file_extension": ".py",
      "mimetype": "text/x-python",
      "name": "python",
      "nbconvert_exporter": "python",
      "pygments_lexer": "ipython3",
      "version": "3.6.9"
    },
    "toc": {
      "base_numbering": 1,
      "nav_menu": {},
      "number_sections": true,
      "sideBar": true,
      "skip_h1_title": false,
      "title_cell": "Table of Contents",
      "title_sidebar": "Contents",
      "toc_cell": false,
      "toc_position": {},
      "toc_section_display": true,
      "toc_window_display": true
    },
    "varInspector": {
      "cols": {
        "lenName": 16,
        "lenType": 16,
        "lenVar": 40
      },
      "kernels_config": {
        "python": {
          "delete_cmd_postfix": "",
          "delete_cmd_prefix": "del ",
          "library": "var_list.py",
          "varRefreshCmd": "print(var_dic_list())"
        },
        "r": {
          "delete_cmd_postfix": ") ",
          "delete_cmd_prefix": "rm(",
          "library": "var_list.r",
          "varRefreshCmd": "cat(var_dic_list()) "
        }
      },
      "types_to_exclude": [
        "module",
        "function",
        "builtin_function_or_method",
        "instance",
        "_Feature"
      ],
      "window_display": false
    },
    "colab": {
      "provenance": []
    },
    "widgets": {
      "application/vnd.jupyter.widget-state+json": {
        "245980cdd8974738859faa534415b5f9": {
          "model_module": "@jupyter-widgets/controls",
          "model_name": "HBoxModel",
          "state": {
            "_view_name": "HBoxView",
            "_dom_classes": [],
            "_model_name": "HBoxModel",
            "_view_module": "@jupyter-widgets/controls",
            "_model_module_version": "1.5.0",
            "_view_count": null,
            "_view_module_version": "1.5.0",
            "box_style": "",
            "layout": "IPY_MODEL_122aafe7460b48a0b62d168b9f54c91f",
            "_model_module": "@jupyter-widgets/controls",
            "children": [
              "IPY_MODEL_0e0ad8436ebf498f8eeaf1c297931e0b",
              "IPY_MODEL_a8577fd89bc34f758e5edbfd2c3ed608"
            ]
          },
          "model_module_version": "1.5.0"
        },
        "122aafe7460b48a0b62d168b9f54c91f": {
          "model_module": "@jupyter-widgets/base",
          "model_name": "LayoutModel",
          "state": {
            "_view_name": "LayoutView",
            "grid_template_rows": null,
            "right": null,
            "justify_content": null,
            "_view_module": "@jupyter-widgets/base",
            "overflow": null,
            "_model_module_version": "1.2.0",
            "_view_count": null,
            "flex_flow": null,
            "width": null,
            "min_width": null,
            "border": null,
            "align_items": null,
            "bottom": null,
            "_model_module": "@jupyter-widgets/base",
            "top": null,
            "grid_column": null,
            "overflow_y": null,
            "overflow_x": null,
            "grid_auto_flow": null,
            "grid_area": null,
            "grid_template_columns": null,
            "flex": null,
            "_model_name": "LayoutModel",
            "justify_items": null,
            "grid_row": null,
            "max_height": null,
            "align_content": null,
            "visibility": null,
            "align_self": null,
            "height": null,
            "min_height": null,
            "padding": null,
            "grid_auto_rows": null,
            "grid_gap": null,
            "max_width": null,
            "order": null,
            "_view_module_version": "1.2.0",
            "grid_template_areas": null,
            "object_position": null,
            "object_fit": null,
            "grid_auto_columns": null,
            "margin": null,
            "display": null,
            "left": null
          },
          "model_module_version": "1.2.0"
        },
        "0e0ad8436ebf498f8eeaf1c297931e0b": {
          "model_module": "@jupyter-widgets/controls",
          "model_name": "FloatProgressModel",
          "state": {
            "_view_name": "ProgressView",
            "style": "IPY_MODEL_9fc5c418110e4098a53d2d61fdebe3c5",
            "_dom_classes": [],
            "description": "100%",
            "_model_name": "FloatProgressModel",
            "bar_style": "success",
            "max": 27581,
            "_view_module": "@jupyter-widgets/controls",
            "_model_module_version": "1.5.0",
            "value": 27581,
            "_view_count": null,
            "_view_module_version": "1.5.0",
            "orientation": "horizontal",
            "min": 0,
            "description_tooltip": null,
            "_model_module": "@jupyter-widgets/controls",
            "layout": "IPY_MODEL_a4578afab0744138831f9cc42d3206e3"
          },
          "model_module_version": "1.5.0"
        },
        "a8577fd89bc34f758e5edbfd2c3ed608": {
          "model_module": "@jupyter-widgets/controls",
          "model_name": "HTMLModel",
          "state": {
            "_view_name": "HTMLView",
            "style": "IPY_MODEL_160ef1656f12486ebf4d004d3441aa77",
            "_dom_classes": [],
            "description": "",
            "_model_name": "HTMLModel",
            "placeholder": "​",
            "_view_module": "@jupyter-widgets/controls",
            "_model_module_version": "1.5.0",
            "value": " 27581/27581 [00:00&lt;00:00, 32382.30it/s]",
            "_view_count": null,
            "_view_module_version": "1.5.0",
            "description_tooltip": null,
            "_model_module": "@jupyter-widgets/controls",
            "layout": "IPY_MODEL_62adec7bd1554ae3bcdb5a5ce1a36b0d"
          },
          "model_module_version": "1.5.0"
        },
        "9fc5c418110e4098a53d2d61fdebe3c5": {
          "model_module": "@jupyter-widgets/controls",
          "model_name": "ProgressStyleModel",
          "state": {
            "_view_name": "StyleView",
            "_model_name": "ProgressStyleModel",
            "description_width": "initial",
            "_view_module": "@jupyter-widgets/base",
            "_model_module_version": "1.5.0",
            "_view_count": null,
            "_view_module_version": "1.2.0",
            "bar_color": null,
            "_model_module": "@jupyter-widgets/controls"
          },
          "model_module_version": "1.5.0"
        },
        "a4578afab0744138831f9cc42d3206e3": {
          "model_module": "@jupyter-widgets/base",
          "model_name": "LayoutModel",
          "state": {
            "_view_name": "LayoutView",
            "grid_template_rows": null,
            "right": null,
            "justify_content": null,
            "_view_module": "@jupyter-widgets/base",
            "overflow": null,
            "_model_module_version": "1.2.0",
            "_view_count": null,
            "flex_flow": null,
            "width": null,
            "min_width": null,
            "border": null,
            "align_items": null,
            "bottom": null,
            "_model_module": "@jupyter-widgets/base",
            "top": null,
            "grid_column": null,
            "overflow_y": null,
            "overflow_x": null,
            "grid_auto_flow": null,
            "grid_area": null,
            "grid_template_columns": null,
            "flex": null,
            "_model_name": "LayoutModel",
            "justify_items": null,
            "grid_row": null,
            "max_height": null,
            "align_content": null,
            "visibility": null,
            "align_self": null,
            "height": null,
            "min_height": null,
            "padding": null,
            "grid_auto_rows": null,
            "grid_gap": null,
            "max_width": null,
            "order": null,
            "_view_module_version": "1.2.0",
            "grid_template_areas": null,
            "object_position": null,
            "object_fit": null,
            "grid_auto_columns": null,
            "margin": null,
            "display": null,
            "left": null
          },
          "model_module_version": "1.2.0"
        },
        "160ef1656f12486ebf4d004d3441aa77": {
          "model_module": "@jupyter-widgets/controls",
          "model_name": "DescriptionStyleModel",
          "state": {
            "_view_name": "StyleView",
            "_model_name": "DescriptionStyleModel",
            "description_width": "",
            "_view_module": "@jupyter-widgets/base",
            "_model_module_version": "1.5.0",
            "_view_count": null,
            "_view_module_version": "1.2.0",
            "_model_module": "@jupyter-widgets/controls"
          },
          "model_module_version": "1.5.0"
        },
        "62adec7bd1554ae3bcdb5a5ce1a36b0d": {
          "model_module": "@jupyter-widgets/base",
          "model_name": "LayoutModel",
          "state": {
            "_view_name": "LayoutView",
            "grid_template_rows": null,
            "right": null,
            "justify_content": null,
            "_view_module": "@jupyter-widgets/base",
            "overflow": null,
            "_model_module_version": "1.2.0",
            "_view_count": null,
            "flex_flow": null,
            "width": null,
            "min_width": null,
            "border": null,
            "align_items": null,
            "bottom": null,
            "_model_module": "@jupyter-widgets/base",
            "top": null,
            "grid_column": null,
            "overflow_y": null,
            "overflow_x": null,
            "grid_auto_flow": null,
            "grid_area": null,
            "grid_template_columns": null,
            "flex": null,
            "_model_name": "LayoutModel",
            "justify_items": null,
            "grid_row": null,
            "max_height": null,
            "align_content": null,
            "visibility": null,
            "align_self": null,
            "height": null,
            "min_height": null,
            "padding": null,
            "grid_auto_rows": null,
            "grid_gap": null,
            "max_width": null,
            "order": null,
            "_view_module_version": "1.2.0",
            "grid_template_areas": null,
            "object_position": null,
            "object_fit": null,
            "grid_auto_columns": null,
            "margin": null,
            "display": null,
            "left": null
          },
          "model_module_version": "1.2.0"
        },
        "1feb29c1be164134ace73a3eba64f3cc": {
          "model_module": "@jupyter-widgets/controls",
          "model_name": "HBoxModel",
          "state": {
            "_view_name": "HBoxView",
            "_dom_classes": [],
            "_model_name": "HBoxModel",
            "_view_module": "@jupyter-widgets/controls",
            "_model_module_version": "1.5.0",
            "_view_count": null,
            "_view_module_version": "1.5.0",
            "box_style": "",
            "layout": "IPY_MODEL_95af96a86361422c91d7904a663093bb",
            "_model_module": "@jupyter-widgets/controls",
            "children": [
              "IPY_MODEL_4f414c2d42724f06b5194bbe5a6d3a5a",
              "IPY_MODEL_569d91f5277d4f069e4ff6cc998078a3"
            ]
          },
          "model_module_version": "1.5.0"
        },
        "95af96a86361422c91d7904a663093bb": {
          "model_module": "@jupyter-widgets/base",
          "model_name": "LayoutModel",
          "state": {
            "_view_name": "LayoutView",
            "grid_template_rows": null,
            "right": null,
            "justify_content": null,
            "_view_module": "@jupyter-widgets/base",
            "overflow": null,
            "_model_module_version": "1.2.0",
            "_view_count": null,
            "flex_flow": null,
            "width": null,
            "min_width": null,
            "border": null,
            "align_items": null,
            "bottom": null,
            "_model_module": "@jupyter-widgets/base",
            "top": null,
            "grid_column": null,
            "overflow_y": null,
            "overflow_x": null,
            "grid_auto_flow": null,
            "grid_area": null,
            "grid_template_columns": null,
            "flex": null,
            "_model_name": "LayoutModel",
            "justify_items": null,
            "grid_row": null,
            "max_height": null,
            "align_content": null,
            "visibility": null,
            "align_self": null,
            "height": null,
            "min_height": null,
            "padding": null,
            "grid_auto_rows": null,
            "grid_gap": null,
            "max_width": null,
            "order": null,
            "_view_module_version": "1.2.0",
            "grid_template_areas": null,
            "object_position": null,
            "object_fit": null,
            "grid_auto_columns": null,
            "margin": null,
            "display": null,
            "left": null
          },
          "model_module_version": "1.2.0"
        },
        "4f414c2d42724f06b5194bbe5a6d3a5a": {
          "model_module": "@jupyter-widgets/controls",
          "model_name": "FloatProgressModel",
          "state": {
            "_view_name": "ProgressView",
            "style": "IPY_MODEL_6afe0b783c34455e9f9859aff6d66462",
            "_dom_classes": [],
            "description": "100%",
            "_model_name": "FloatProgressModel",
            "bar_style": "success",
            "max": 27581,
            "_view_module": "@jupyter-widgets/controls",
            "_model_module_version": "1.5.0",
            "value": 27581,
            "_view_count": null,
            "_view_module_version": "1.5.0",
            "orientation": "horizontal",
            "min": 0,
            "description_tooltip": null,
            "_model_module": "@jupyter-widgets/controls",
            "layout": "IPY_MODEL_667b2ab496c24b189fe3699cdbba314b"
          },
          "model_module_version": "1.5.0"
        },
        "569d91f5277d4f069e4ff6cc998078a3": {
          "model_module": "@jupyter-widgets/controls",
          "model_name": "HTMLModel",
          "state": {
            "_view_name": "HTMLView",
            "style": "IPY_MODEL_3d616f5b30a449e2bb4238ce340b0037",
            "_dom_classes": [],
            "description": "",
            "_model_name": "HTMLModel",
            "placeholder": "​",
            "_view_module": "@jupyter-widgets/controls",
            "_model_module_version": "1.5.0",
            "value": " 27581/27581 [00:53&lt;00:00, 515.97it/s]",
            "_view_count": null,
            "_view_module_version": "1.5.0",
            "description_tooltip": null,
            "_model_module": "@jupyter-widgets/controls",
            "layout": "IPY_MODEL_bd10c3751bc44228afcb01e4736644ca"
          },
          "model_module_version": "1.5.0"
        },
        "6afe0b783c34455e9f9859aff6d66462": {
          "model_module": "@jupyter-widgets/controls",
          "model_name": "ProgressStyleModel",
          "state": {
            "_view_name": "StyleView",
            "_model_name": "ProgressStyleModel",
            "description_width": "initial",
            "_view_module": "@jupyter-widgets/base",
            "_model_module_version": "1.5.0",
            "_view_count": null,
            "_view_module_version": "1.2.0",
            "bar_color": null,
            "_model_module": "@jupyter-widgets/controls"
          },
          "model_module_version": "1.5.0"
        },
        "667b2ab496c24b189fe3699cdbba314b": {
          "model_module": "@jupyter-widgets/base",
          "model_name": "LayoutModel",
          "state": {
            "_view_name": "LayoutView",
            "grid_template_rows": null,
            "right": null,
            "justify_content": null,
            "_view_module": "@jupyter-widgets/base",
            "overflow": null,
            "_model_module_version": "1.2.0",
            "_view_count": null,
            "flex_flow": null,
            "width": null,
            "min_width": null,
            "border": null,
            "align_items": null,
            "bottom": null,
            "_model_module": "@jupyter-widgets/base",
            "top": null,
            "grid_column": null,
            "overflow_y": null,
            "overflow_x": null,
            "grid_auto_flow": null,
            "grid_area": null,
            "grid_template_columns": null,
            "flex": null,
            "_model_name": "LayoutModel",
            "justify_items": null,
            "grid_row": null,
            "max_height": null,
            "align_content": null,
            "visibility": null,
            "align_self": null,
            "height": null,
            "min_height": null,
            "padding": null,
            "grid_auto_rows": null,
            "grid_gap": null,
            "max_width": null,
            "order": null,
            "_view_module_version": "1.2.0",
            "grid_template_areas": null,
            "object_position": null,
            "object_fit": null,
            "grid_auto_columns": null,
            "margin": null,
            "display": null,
            "left": null
          },
          "model_module_version": "1.2.0"
        },
        "3d616f5b30a449e2bb4238ce340b0037": {
          "model_module": "@jupyter-widgets/controls",
          "model_name": "DescriptionStyleModel",
          "state": {
            "_view_name": "StyleView",
            "_model_name": "DescriptionStyleModel",
            "description_width": "",
            "_view_module": "@jupyter-widgets/base",
            "_model_module_version": "1.5.0",
            "_view_count": null,
            "_view_module_version": "1.2.0",
            "_model_module": "@jupyter-widgets/controls"
          },
          "model_module_version": "1.5.0"
        },
        "bd10c3751bc44228afcb01e4736644ca": {
          "model_module": "@jupyter-widgets/base",
          "model_name": "LayoutModel",
          "state": {
            "_view_name": "LayoutView",
            "grid_template_rows": null,
            "right": null,
            "justify_content": null,
            "_view_module": "@jupyter-widgets/base",
            "overflow": null,
            "_model_module_version": "1.2.0",
            "_view_count": null,
            "flex_flow": null,
            "width": null,
            "min_width": null,
            "border": null,
            "align_items": null,
            "bottom": null,
            "_model_module": "@jupyter-widgets/base",
            "top": null,
            "grid_column": null,
            "overflow_y": null,
            "overflow_x": null,
            "grid_auto_flow": null,
            "grid_area": null,
            "grid_template_columns": null,
            "flex": null,
            "_model_name": "LayoutModel",
            "justify_items": null,
            "grid_row": null,
            "max_height": null,
            "align_content": null,
            "visibility": null,
            "align_self": null,
            "height": null,
            "min_height": null,
            "padding": null,
            "grid_auto_rows": null,
            "grid_gap": null,
            "max_width": null,
            "order": null,
            "_view_module_version": "1.2.0",
            "grid_template_areas": null,
            "object_position": null,
            "object_fit": null,
            "grid_auto_columns": null,
            "margin": null,
            "display": null,
            "left": null
          },
          "model_module_version": "1.2.0"
        }
      }
    }
  },
  "cells": [
    {
      "cell_type": "markdown",
      "metadata": {
        "id": "zGII6rCzW6zZ"
      },
      "source": [
        "#**Automate Emotion Detection For Paragraphs Using Machine Learning**"
      ]
    },
    {
      "cell_type": "markdown",
      "metadata": {
        "id": "MYBPFfR_W6za"
      },
      "source": [
        "##**Importing Libraries**"
      ]
    },
    {
      "cell_type": "code",
      "metadata": {
        "ExecuteTime": {
          "end_time": "2020-07-05T17:49:45.582969Z",
          "start_time": "2020-07-05T17:49:44.700518Z"
        },
        "scrolled": true,
        "id": "HxRf8ek_W6za",
        "colab": {
          "base_uri": "https://localhost:8080/",
          "height": 67
        },
        "outputId": "8e31368f-66d2-4292-ddf0-2eebd59042d3"
      },
      "source": [
        "#Import Pandas and NumPy libraries\n",
        "import pandas as pd\n",
        "import numpy as np\n",
        "\n",
        "# Import NLTK and Gensim modules\n",
        "import nltk\n",
        "from nltk.corpus import stopwords\n",
        "\n",
        "# Importing FastText model from Gensim\n",
        "from gensim.models import FastText\n",
        "\n",
        "# Import tqdm and setup notebook integration\n",
        "from tqdm._tqdm_notebook import tqdm_notebook\n",
        "tqdm_notebook.pandas()\n",
        "\n",
        "# Importing additional components from NLTK\n",
        "# Importing WordNetLemmatizer for word lemmatization\n",
        "from nltk.stem import WordNetLemmatizer\n",
        "\n",
        "# Import contraction_map and other utilities\n",
        "# Assuming this is a custom module for handling contractions\n",
        "from contractions import contraction_map\n",
        "\n",
        "# Importing string module for string operations\n",
        "import string\n",
        "\n",
        " # Importing re module for regular expressions\n",
        "import re\n",
        "\n",
        "# Initialize NLTK resources if necessary\n",
        "nltk.download('stopwords')\n",
        "nltk.download('wordnet')\n",
        "\n",
        "# Initialize stopwords and lemmatizer\n",
        "# Set of English stopwords\n",
        "stop_words = set(stopwords.words('english'))\n",
        "\n",
        "# WordNetLemmatizer instance for word lemmatization\n",
        "lemmatizer = WordNetLemmatizer()"
      ],
      "execution_count": null,
      "outputs": [
        {
          "output_type": "stream",
          "text": [
            "/usr/local/lib/python3.6/dist-packages/ipykernel_launcher.py:7: TqdmDeprecationWarning: This function will be removed in tqdm==5.0.0\n",
            "Please use `tqdm.notebook.*` instead of `tqdm._tqdm_notebook.*`\n",
            "  import sys\n"
          ],
          "name": "stderr"
        }
      ]
    },
    {
      "cell_type": "markdown",
      "metadata": {
        "id": "GSPw6YkKW6zh"
      },
      "source": [
        "##**Data cleaning**"
      ]
    },
    {
      "cell_type": "code",
      "metadata": {
        "scrolled": true,
        "id": "0cKSHlC-W6zi"
      },
      "source": [
        "# Loading the dataset\n",
        "data = pd.read_csv('/content/text_emotion (1).csv')"
      ],
      "execution_count": null,
      "outputs": []
    },
    {
      "cell_type": "code",
      "metadata": {
        "cell_style": "split",
        "scrolled": false,
        "id": "N8hCb2TyW6zk",
        "colab": {
          "base_uri": "https://localhost:8080/",
          "height": 195
        },
        "outputId": "08b02f57-386e-4500-a335-bff2fe67cf9d"
      },
      "source": [
        "# Having a look at the dataset\n",
        "data.head()"
      ],
      "execution_count": null,
      "outputs": [
        {
          "output_type": "execute_result",
          "data": {
            "text/html": [
              "<div>\n",
              "<style scoped>\n",
              "    .dataframe tbody tr th:only-of-type {\n",
              "        vertical-align: middle;\n",
              "    }\n",
              "\n",
              "    .dataframe tbody tr th {\n",
              "        vertical-align: top;\n",
              "    }\n",
              "\n",
              "    .dataframe thead th {\n",
              "        text-align: right;\n",
              "    }\n",
              "</style>\n",
              "<table border=\"1\" class=\"dataframe\">\n",
              "  <thead>\n",
              "    <tr style=\"text-align: right;\">\n",
              "      <th></th>\n",
              "      <th>tweet_id</th>\n",
              "      <th>sentiment</th>\n",
              "      <th>author</th>\n",
              "      <th>content</th>\n",
              "    </tr>\n",
              "  </thead>\n",
              "  <tbody>\n",
              "    <tr>\n",
              "      <th>0</th>\n",
              "      <td>1956967341</td>\n",
              "      <td>empty</td>\n",
              "      <td>xoshayzers</td>\n",
              "      <td>@tiffanylue i know  i was listenin to bad habi...</td>\n",
              "    </tr>\n",
              "    <tr>\n",
              "      <th>1</th>\n",
              "      <td>1956967666</td>\n",
              "      <td>sadness</td>\n",
              "      <td>wannamama</td>\n",
              "      <td>Layin n bed with a headache  ughhhh...waitin o...</td>\n",
              "    </tr>\n",
              "    <tr>\n",
              "      <th>2</th>\n",
              "      <td>1956967696</td>\n",
              "      <td>sadness</td>\n",
              "      <td>coolfunky</td>\n",
              "      <td>Funeral ceremony...gloomy friday...</td>\n",
              "    </tr>\n",
              "    <tr>\n",
              "      <th>3</th>\n",
              "      <td>1956967789</td>\n",
              "      <td>enthusiasm</td>\n",
              "      <td>czareaquino</td>\n",
              "      <td>wants to hang out with friends SOON!</td>\n",
              "    </tr>\n",
              "    <tr>\n",
              "      <th>4</th>\n",
              "      <td>1956968416</td>\n",
              "      <td>neutral</td>\n",
              "      <td>xkilljoyx</td>\n",
              "      <td>@dannycastillo We want to trade with someone w...</td>\n",
              "    </tr>\n",
              "  </tbody>\n",
              "</table>\n",
              "</div>"
            ],
            "text/plain": [
              "     tweet_id  ...                                            content\n",
              "0  1956967341  ...  @tiffanylue i know  i was listenin to bad habi...\n",
              "1  1956967666  ...  Layin n bed with a headache  ughhhh...waitin o...\n",
              "2  1956967696  ...                Funeral ceremony...gloomy friday...\n",
              "3  1956967789  ...               wants to hang out with friends SOON!\n",
              "4  1956968416  ...  @dannycastillo We want to trade with someone w...\n",
              "\n",
              "[5 rows x 4 columns]"
            ]
          },
          "metadata": {
            "tags": []
          },
          "execution_count": 5
        }
      ]
    },
    {
      "cell_type": "code",
      "metadata": {
        "cell_style": "split",
        "scrolled": true,
        "id": "pmjCZ3J1W6zn",
        "colab": {
          "base_uri": "https://localhost:8080/",
          "height": 252
        },
        "outputId": "ba7ad2e0-f916-4575-f713-5863727090d1"
      },
      "source": [
        "# Getting count of the emotions present in the dataset\n",
        "data.sentiment.value_counts()"
      ],
      "execution_count": null,
      "outputs": [
        {
          "output_type": "execute_result",
          "data": {
            "text/plain": [
              "neutral       8638\n",
              "worry         8459\n",
              "happiness     5209\n",
              "sadness       5165\n",
              "love          3842\n",
              "surprise      2187\n",
              "fun           1776\n",
              "relief        1526\n",
              "hate          1323\n",
              "empty          827\n",
              "enthusiasm     759\n",
              "boredom        179\n",
              "anger          110\n",
              "Name: sentiment, dtype: int64"
            ]
          },
          "metadata": {
            "tags": []
          },
          "execution_count": 6
        }
      ]
    },
    {
      "cell_type": "code",
      "metadata": {
        "scrolled": true,
        "id": "ZoyamQZyW6zp"
      },
      "source": [
        "# Creating a copy of the dataset\n",
        "df = data.copy()"
      ],
      "execution_count": null,
      "outputs": []
    },
    {
      "cell_type": "code",
      "metadata": {
        "id": "XtKPDu25W6zr",
        "colab": {
          "base_uri": "https://localhost:8080/",
          "height": 101
        },
        "outputId": "fc96188b-247d-464f-d8c1-bc392a66c224"
      },
      "source": [
        "# Checking the data types present\n",
        "df.dtypes"
      ],
      "execution_count": null,
      "outputs": [
        {
          "output_type": "execute_result",
          "data": {
            "text/plain": [
              "tweet_id      int64\n",
              "sentiment    object\n",
              "author       object\n",
              "content      object\n",
              "dtype: object"
            ]
          },
          "metadata": {
            "tags": []
          },
          "execution_count": 8
        }
      ]
    },
    {
      "cell_type": "code",
      "metadata": {
        "id": "2UwsGmB8W6zt"
      },
      "source": [
        "# Dropping rows with other emotion labels, i.e rounding number of emotions to only 5 basic ones\n",
        "df = df.drop(df[df.sentiment == 'boredom'].index)\n",
        "df = df.drop(df[df.sentiment == 'enthusiasm'].index)\n",
        "df = df.drop(df[df.sentiment == 'empty'].index)\n",
        "df = df.drop(df[df.sentiment == 'fun'].index)\n",
        "df = df.drop(df[df.sentiment == 'relief'].index)\n",
        "df = df.drop(df[df.sentiment == 'surprise'].index)\n",
        "df = df.drop(df[df.sentiment == 'love'].index)\n",
        "df = df.drop(df[df.sentiment == 'hate'].index)"
      ],
      "execution_count": null,
      "outputs": []
    },
    {
      "cell_type": "code",
      "metadata": {
        "scrolled": true,
        "id": "OK1BOm3UW6zv",
        "colab": {
          "base_uri": "https://localhost:8080/",
          "height": 118
        },
        "outputId": "4fc50624-679b-420a-e547-dcb9e82876e1"
      },
      "source": [
        "# Having a count of each sentiment as reduced to 5 emotions.\n",
        "df.sentiment.value_counts()"
      ],
      "execution_count": null,
      "outputs": [
        {
          "output_type": "execute_result",
          "data": {
            "text/plain": [
              "neutral      8638\n",
              "worry        8459\n",
              "happiness    5209\n",
              "sadness      5165\n",
              "anger         110\n",
              "Name: sentiment, dtype: int64"
            ]
          },
          "metadata": {
            "tags": []
          },
          "execution_count": 10
        }
      ]
    },
    {
      "cell_type": "code",
      "metadata": {
        "scrolled": true,
        "id": "jhPacG4QW6zy",
        "colab": {
          "base_uri": "https://localhost:8080/",
          "height": 402
        },
        "outputId": "d738414e-d8d7-4a51-ecd6-27cdd3c618f0"
      },
      "source": [
        "# Lets have a look at our dataset\n",
        "df"
      ],
      "execution_count": null,
      "outputs": [
        {
          "output_type": "execute_result",
          "data": {
            "text/html": [
              "<div>\n",
              "<style scoped>\n",
              "    .dataframe tbody tr th:only-of-type {\n",
              "        vertical-align: middle;\n",
              "    }\n",
              "\n",
              "    .dataframe tbody tr th {\n",
              "        vertical-align: top;\n",
              "    }\n",
              "\n",
              "    .dataframe thead th {\n",
              "        text-align: right;\n",
              "    }\n",
              "</style>\n",
              "<table border=\"1\" class=\"dataframe\">\n",
              "  <thead>\n",
              "    <tr style=\"text-align: right;\">\n",
              "      <th></th>\n",
              "      <th>tweet_id</th>\n",
              "      <th>sentiment</th>\n",
              "      <th>author</th>\n",
              "      <th>content</th>\n",
              "    </tr>\n",
              "  </thead>\n",
              "  <tbody>\n",
              "    <tr>\n",
              "      <th>1</th>\n",
              "      <td>1956967666</td>\n",
              "      <td>sadness</td>\n",
              "      <td>wannamama</td>\n",
              "      <td>Layin n bed with a headache  ughhhh...waitin o...</td>\n",
              "    </tr>\n",
              "    <tr>\n",
              "      <th>2</th>\n",
              "      <td>1956967696</td>\n",
              "      <td>sadness</td>\n",
              "      <td>coolfunky</td>\n",
              "      <td>Funeral ceremony...gloomy friday...</td>\n",
              "    </tr>\n",
              "    <tr>\n",
              "      <th>4</th>\n",
              "      <td>1956968416</td>\n",
              "      <td>neutral</td>\n",
              "      <td>xkilljoyx</td>\n",
              "      <td>@dannycastillo We want to trade with someone w...</td>\n",
              "    </tr>\n",
              "    <tr>\n",
              "      <th>5</th>\n",
              "      <td>1956968477</td>\n",
              "      <td>worry</td>\n",
              "      <td>xxxPEACHESxxx</td>\n",
              "      <td>Re-pinging @ghostridah14: why didn't you go to...</td>\n",
              "    </tr>\n",
              "    <tr>\n",
              "      <th>6</th>\n",
              "      <td>1956968487</td>\n",
              "      <td>sadness</td>\n",
              "      <td>ShansBee</td>\n",
              "      <td>I should be sleep, but im not! thinking about ...</td>\n",
              "    </tr>\n",
              "    <tr>\n",
              "      <th>...</th>\n",
              "      <td>...</td>\n",
              "      <td>...</td>\n",
              "      <td>...</td>\n",
              "      <td>...</td>\n",
              "    </tr>\n",
              "    <tr>\n",
              "      <th>39992</th>\n",
              "      <td>1753918881</td>\n",
              "      <td>neutral</td>\n",
              "      <td>_Alectrona_</td>\n",
              "      <td>@jasimmo Ooo showing of your French skills!! l...</td>\n",
              "    </tr>\n",
              "    <tr>\n",
              "      <th>39993</th>\n",
              "      <td>1753918892</td>\n",
              "      <td>neutral</td>\n",
              "      <td>bushidosan</td>\n",
              "      <td>@sendsome2me haha, yeah. Twitter has many uses...</td>\n",
              "    </tr>\n",
              "    <tr>\n",
              "      <th>39994</th>\n",
              "      <td>1753918900</td>\n",
              "      <td>happiness</td>\n",
              "      <td>courtside101</td>\n",
              "      <td>Succesfully following Tayla!!</td>\n",
              "    </tr>\n",
              "    <tr>\n",
              "      <th>39995</th>\n",
              "      <td>1753918954</td>\n",
              "      <td>neutral</td>\n",
              "      <td>showMe_Heaven</td>\n",
              "      <td>@JohnLloydTaylor</td>\n",
              "    </tr>\n",
              "    <tr>\n",
              "      <th>39998</th>\n",
              "      <td>1753919043</td>\n",
              "      <td>happiness</td>\n",
              "      <td>ipdaman1</td>\n",
              "      <td>@niariley WASSUP BEAUTIFUL!!! FOLLOW ME!!  PEE...</td>\n",
              "    </tr>\n",
              "  </tbody>\n",
              "</table>\n",
              "<p>27581 rows × 4 columns</p>\n",
              "</div>"
            ],
            "text/plain": [
              "         tweet_id  ...                                            content\n",
              "1      1956967666  ...  Layin n bed with a headache  ughhhh...waitin o...\n",
              "2      1956967696  ...                Funeral ceremony...gloomy friday...\n",
              "4      1956968416  ...  @dannycastillo We want to trade with someone w...\n",
              "5      1956968477  ...  Re-pinging @ghostridah14: why didn't you go to...\n",
              "6      1956968487  ...  I should be sleep, but im not! thinking about ...\n",
              "...           ...  ...                                                ...\n",
              "39992  1753918881  ...  @jasimmo Ooo showing of your French skills!! l...\n",
              "39993  1753918892  ...  @sendsome2me haha, yeah. Twitter has many uses...\n",
              "39994  1753918900  ...                      Succesfully following Tayla!!\n",
              "39995  1753918954  ...                                   @JohnLloydTaylor\n",
              "39998  1753919043  ...  @niariley WASSUP BEAUTIFUL!!! FOLLOW ME!!  PEE...\n",
              "\n",
              "[27581 rows x 4 columns]"
            ]
          },
          "metadata": {
            "tags": []
          },
          "execution_count": 11
        }
      ]
    },
    {
      "cell_type": "code",
      "metadata": {
        "scrolled": true,
        "id": "Df62udJ-W6z0",
        "colab": {
          "base_uri": "https://localhost:8080/",
          "height": 402
        },
        "outputId": "efd43366-bd9f-4fbf-c5f4-ef764f14b76c"
      },
      "source": [
        "# Dropping the \"author\" column from the dataset\n",
        "df = df.drop('author',axis=1)\n",
        "df"
      ],
      "execution_count": null,
      "outputs": [
        {
          "output_type": "execute_result",
          "data": {
            "text/html": [
              "<div>\n",
              "<style scoped>\n",
              "    .dataframe tbody tr th:only-of-type {\n",
              "        vertical-align: middle;\n",
              "    }\n",
              "\n",
              "    .dataframe tbody tr th {\n",
              "        vertical-align: top;\n",
              "    }\n",
              "\n",
              "    .dataframe thead th {\n",
              "        text-align: right;\n",
              "    }\n",
              "</style>\n",
              "<table border=\"1\" class=\"dataframe\">\n",
              "  <thead>\n",
              "    <tr style=\"text-align: right;\">\n",
              "      <th></th>\n",
              "      <th>tweet_id</th>\n",
              "      <th>sentiment</th>\n",
              "      <th>content</th>\n",
              "    </tr>\n",
              "  </thead>\n",
              "  <tbody>\n",
              "    <tr>\n",
              "      <th>1</th>\n",
              "      <td>1956967666</td>\n",
              "      <td>sadness</td>\n",
              "      <td>Layin n bed with a headache  ughhhh...waitin o...</td>\n",
              "    </tr>\n",
              "    <tr>\n",
              "      <th>2</th>\n",
              "      <td>1956967696</td>\n",
              "      <td>sadness</td>\n",
              "      <td>Funeral ceremony...gloomy friday...</td>\n",
              "    </tr>\n",
              "    <tr>\n",
              "      <th>4</th>\n",
              "      <td>1956968416</td>\n",
              "      <td>neutral</td>\n",
              "      <td>@dannycastillo We want to trade with someone w...</td>\n",
              "    </tr>\n",
              "    <tr>\n",
              "      <th>5</th>\n",
              "      <td>1956968477</td>\n",
              "      <td>worry</td>\n",
              "      <td>Re-pinging @ghostridah14: why didn't you go to...</td>\n",
              "    </tr>\n",
              "    <tr>\n",
              "      <th>6</th>\n",
              "      <td>1956968487</td>\n",
              "      <td>sadness</td>\n",
              "      <td>I should be sleep, but im not! thinking about ...</td>\n",
              "    </tr>\n",
              "    <tr>\n",
              "      <th>...</th>\n",
              "      <td>...</td>\n",
              "      <td>...</td>\n",
              "      <td>...</td>\n",
              "    </tr>\n",
              "    <tr>\n",
              "      <th>39992</th>\n",
              "      <td>1753918881</td>\n",
              "      <td>neutral</td>\n",
              "      <td>@jasimmo Ooo showing of your French skills!! l...</td>\n",
              "    </tr>\n",
              "    <tr>\n",
              "      <th>39993</th>\n",
              "      <td>1753918892</td>\n",
              "      <td>neutral</td>\n",
              "      <td>@sendsome2me haha, yeah. Twitter has many uses...</td>\n",
              "    </tr>\n",
              "    <tr>\n",
              "      <th>39994</th>\n",
              "      <td>1753918900</td>\n",
              "      <td>happiness</td>\n",
              "      <td>Succesfully following Tayla!!</td>\n",
              "    </tr>\n",
              "    <tr>\n",
              "      <th>39995</th>\n",
              "      <td>1753918954</td>\n",
              "      <td>neutral</td>\n",
              "      <td>@JohnLloydTaylor</td>\n",
              "    </tr>\n",
              "    <tr>\n",
              "      <th>39998</th>\n",
              "      <td>1753919043</td>\n",
              "      <td>happiness</td>\n",
              "      <td>@niariley WASSUP BEAUTIFUL!!! FOLLOW ME!!  PEE...</td>\n",
              "    </tr>\n",
              "  </tbody>\n",
              "</table>\n",
              "<p>27581 rows × 3 columns</p>\n",
              "</div>"
            ],
            "text/plain": [
              "         tweet_id  sentiment                                            content\n",
              "1      1956967666    sadness  Layin n bed with a headache  ughhhh...waitin o...\n",
              "2      1956967696    sadness                Funeral ceremony...gloomy friday...\n",
              "4      1956968416    neutral  @dannycastillo We want to trade with someone w...\n",
              "5      1956968477      worry  Re-pinging @ghostridah14: why didn't you go to...\n",
              "6      1956968487    sadness  I should be sleep, but im not! thinking about ...\n",
              "...           ...        ...                                                ...\n",
              "39992  1753918881    neutral  @jasimmo Ooo showing of your French skills!! l...\n",
              "39993  1753918892    neutral  @sendsome2me haha, yeah. Twitter has many uses...\n",
              "39994  1753918900  happiness                      Succesfully following Tayla!!\n",
              "39995  1753918954    neutral                                   @JohnLloydTaylor\n",
              "39998  1753919043  happiness  @niariley WASSUP BEAUTIFUL!!! FOLLOW ME!!  PEE...\n",
              "\n",
              "[27581 rows x 3 columns]"
            ]
          },
          "metadata": {
            "tags": []
          },
          "execution_count": 12
        }
      ]
    },
    {
      "cell_type": "code",
      "metadata": {
        "id": "obDPwMiBW6z2"
      },
      "source": [
        "# Resetting the index\n",
        "df.reset_index(drop=True,inplace=True)"
      ],
      "execution_count": null,
      "outputs": []
    },
    {
      "cell_type": "code",
      "metadata": {
        "scrolled": true,
        "id": "6EMW177HW6z4",
        "colab": {
          "base_uri": "https://localhost:8080/",
          "height": 402
        },
        "outputId": "ac6aa577-8c8f-4570-ff95-2be6f66a3895"
      },
      "source": [
        "# having a look at our Data\n",
        "df"
      ],
      "execution_count": null,
      "outputs": [
        {
          "output_type": "execute_result",
          "data": {
            "text/html": [
              "<div>\n",
              "<style scoped>\n",
              "    .dataframe tbody tr th:only-of-type {\n",
              "        vertical-align: middle;\n",
              "    }\n",
              "\n",
              "    .dataframe tbody tr th {\n",
              "        vertical-align: top;\n",
              "    }\n",
              "\n",
              "    .dataframe thead th {\n",
              "        text-align: right;\n",
              "    }\n",
              "</style>\n",
              "<table border=\"1\" class=\"dataframe\">\n",
              "  <thead>\n",
              "    <tr style=\"text-align: right;\">\n",
              "      <th></th>\n",
              "      <th>tweet_id</th>\n",
              "      <th>sentiment</th>\n",
              "      <th>content</th>\n",
              "    </tr>\n",
              "  </thead>\n",
              "  <tbody>\n",
              "    <tr>\n",
              "      <th>0</th>\n",
              "      <td>1956967666</td>\n",
              "      <td>sadness</td>\n",
              "      <td>Layin n bed with a headache  ughhhh...waitin o...</td>\n",
              "    </tr>\n",
              "    <tr>\n",
              "      <th>1</th>\n",
              "      <td>1956967696</td>\n",
              "      <td>sadness</td>\n",
              "      <td>Funeral ceremony...gloomy friday...</td>\n",
              "    </tr>\n",
              "    <tr>\n",
              "      <th>2</th>\n",
              "      <td>1956968416</td>\n",
              "      <td>neutral</td>\n",
              "      <td>@dannycastillo We want to trade with someone w...</td>\n",
              "    </tr>\n",
              "    <tr>\n",
              "      <th>3</th>\n",
              "      <td>1956968477</td>\n",
              "      <td>worry</td>\n",
              "      <td>Re-pinging @ghostridah14: why didn't you go to...</td>\n",
              "    </tr>\n",
              "    <tr>\n",
              "      <th>4</th>\n",
              "      <td>1956968487</td>\n",
              "      <td>sadness</td>\n",
              "      <td>I should be sleep, but im not! thinking about ...</td>\n",
              "    </tr>\n",
              "    <tr>\n",
              "      <th>...</th>\n",
              "      <td>...</td>\n",
              "      <td>...</td>\n",
              "      <td>...</td>\n",
              "    </tr>\n",
              "    <tr>\n",
              "      <th>27576</th>\n",
              "      <td>1753918881</td>\n",
              "      <td>neutral</td>\n",
              "      <td>@jasimmo Ooo showing of your French skills!! l...</td>\n",
              "    </tr>\n",
              "    <tr>\n",
              "      <th>27577</th>\n",
              "      <td>1753918892</td>\n",
              "      <td>neutral</td>\n",
              "      <td>@sendsome2me haha, yeah. Twitter has many uses...</td>\n",
              "    </tr>\n",
              "    <tr>\n",
              "      <th>27578</th>\n",
              "      <td>1753918900</td>\n",
              "      <td>happiness</td>\n",
              "      <td>Succesfully following Tayla!!</td>\n",
              "    </tr>\n",
              "    <tr>\n",
              "      <th>27579</th>\n",
              "      <td>1753918954</td>\n",
              "      <td>neutral</td>\n",
              "      <td>@JohnLloydTaylor</td>\n",
              "    </tr>\n",
              "    <tr>\n",
              "      <th>27580</th>\n",
              "      <td>1753919043</td>\n",
              "      <td>happiness</td>\n",
              "      <td>@niariley WASSUP BEAUTIFUL!!! FOLLOW ME!!  PEE...</td>\n",
              "    </tr>\n",
              "  </tbody>\n",
              "</table>\n",
              "<p>27581 rows × 3 columns</p>\n",
              "</div>"
            ],
            "text/plain": [
              "         tweet_id  sentiment                                            content\n",
              "0      1956967666    sadness  Layin n bed with a headache  ughhhh...waitin o...\n",
              "1      1956967696    sadness                Funeral ceremony...gloomy friday...\n",
              "2      1956968416    neutral  @dannycastillo We want to trade with someone w...\n",
              "3      1956968477      worry  Re-pinging @ghostridah14: why didn't you go to...\n",
              "4      1956968487    sadness  I should be sleep, but im not! thinking about ...\n",
              "...           ...        ...                                                ...\n",
              "27576  1753918881    neutral  @jasimmo Ooo showing of your French skills!! l...\n",
              "27577  1753918892    neutral  @sendsome2me haha, yeah. Twitter has many uses...\n",
              "27578  1753918900  happiness                      Succesfully following Tayla!!\n",
              "27579  1753918954    neutral                                   @JohnLloydTaylor\n",
              "27580  1753919043  happiness  @niariley WASSUP BEAUTIFUL!!! FOLLOW ME!!  PEE...\n",
              "\n",
              "[27581 rows x 3 columns]"
            ]
          },
          "metadata": {
            "tags": []
          },
          "execution_count": 14
        }
      ]
    },
    {
      "cell_type": "code",
      "metadata": {
        "id": "esfXn4aiW6z6",
        "colab": {
          "base_uri": "https://localhost:8080/",
          "height": 34
        },
        "outputId": "07b99d90-bcf3-45ff-d6de-0f1facab73aa"
      },
      "source": [
        "# Checking the number of columns and rows present in our dataset\n",
        "df.shape"
      ],
      "execution_count": null,
      "outputs": [
        {
          "output_type": "execute_result",
          "data": {
            "text/plain": [
              "(27581, 3)"
            ]
          },
          "metadata": {
            "tags": []
          },
          "execution_count": 15
        }
      ]
    },
    {
      "cell_type": "code",
      "metadata": {
        "id": "Fgq4AO0eW6z7"
      },
      "source": [
        "# Dropping the \"tweet_id\" column\n",
        "df.drop('tweet_id',axis=1,inplace=True)"
      ],
      "execution_count": null,
      "outputs": []
    },
    {
      "cell_type": "code",
      "metadata": {
        "id": "350vzaEkW6z9"
      },
      "source": [
        "# Keeping two columns in our dataset such as 'Sentiment' and 'text'\n",
        "df.columns = ['sentiment','text']"
      ],
      "execution_count": null,
      "outputs": []
    },
    {
      "cell_type": "markdown",
      "metadata": {
        "id": "vsc_BLytW6z_"
      },
      "source": [
        "#**Data pre-processing**"
      ]
    },
    {
      "cell_type": "markdown",
      "metadata": {
        "id": "ytNR0m0sW60A"
      },
      "source": [
        "##**Stopword Exclusion**"
      ]
    },
    {
      "cell_type": "code",
      "metadata": {
        "id": "FmtWI4lvW60C"
      },
      "source": [
        "#Using Sentiment lexicons to be excluded from stopwords\n",
        "df_pos = pd.read_csv('./lexicons/positive.csv')\n",
        "df_neg = pd.read_csv('./lexicons/negative.csv')"
      ],
      "execution_count": null,
      "outputs": []
    },
    {
      "cell_type": "markdown",
      "metadata": {
        "id": "Gb1XChi5W60E"
      },
      "source": [
        "##**Some Required functions for Text Cleaning**"
      ]
    },
    {
      "cell_type": "markdown",
      "source": [
        "##**Function to format the text**"
      ],
      "metadata": {
        "id": "g0Ps3kHhluDB"
      }
    },
    {
      "cell_type": "code",
      "metadata": {
        "id": "YHoBp0U5W60E"
      },
      "source": [
        " # Function to format the text\n",
        "    def expand_text(text):\n",
        "\n",
        "      # Convert text to lowercase\n",
        "      text = text.lower()\n",
        "\n",
        "      # Replace backticks (`) with single quotes (')\n",
        "      text = text.replace(\"`\", \"'\")\n",
        "\n",
        "      # Expand Contractions\n",
        "      # Assuming contraction_map is a dictionary of contractions to expansions\n",
        "      contraction_dict = contraction_map\n",
        "\n",
        "      # Get list of contraction keys\n",
        "      contraction_keys = list(contraction_dict.keys())\n",
        "\n",
        "      # Iterate through each word in the text\n",
        "      for word in text.split():\n",
        "\n",
        "          # Check if the word is a contraction (in contraction_keys)\n",
        "          if word in contraction_keys:\n",
        "\n",
        "              # Replace the contraction with its expanded form from contraction_dict\n",
        "              text = text.replace(word, contraction_dict[word])\n",
        "\n",
        "          else:\n",
        "\n",
        "            # If word is not a contraction, continue to next word\n",
        "            continue\n",
        "\n",
        "      return text"
      ],
      "execution_count": null,
      "outputs": []
    },
    {
      "cell_type": "markdown",
      "source": [
        "##**Function for text cleaning**"
      ],
      "metadata": {
        "id": "W-48dmPol37T"
      }
    },
    {
      "cell_type": "code",
      "metadata": {
        "id": "Jqp0oPDBW60G"
      },
      "source": [
        "# Function for text cleaning\n",
        "def clean_text(text):\n",
        "\n",
        "    # Remove punctuation using translation with None to remove all punctuation\n",
        "    text = text.translate(string.punctuation)\n",
        "\n",
        "    # Convert text to lowercase and split into words\n",
        "    text = text.lower().split()\n",
        "\n",
        "    # Assuming df_pos and df_neg are DataFrames or objects with 'words' attribute\n",
        "    df_pos_words = list(df_pos.words)\n",
        "    df_neg_words = list(df_neg.words)\n",
        "\n",
        "    # Create lists of positive and negative words with spaces removed\n",
        "    positive = []\n",
        "    for i in range(0,len(df_pos_words)):\n",
        "        positive.append(df_pos_words[i].lower().replace(\" \",\"\"))\n",
        "\n",
        "    negative = []\n",
        "    for i in range(0,len(df_neg_words)):\n",
        "        negative.append(df_neg_words[i].lower().replace(\" \",\"\"))\n",
        "\n",
        "    # Convert positive and negative lists to sets for efficient membership checking\n",
        "    pos_set = set(positive)\n",
        "    neg_set = set(negative)\n",
        "\n",
        "    # Define keywords set including standard stopwords and additional keywords\n",
        "    keywords = set([\"above\",\"and\",\"below\",\"not\"])\n",
        "    keywords.update(pos_set)\n",
        "    keywords.update(neg_set)\n",
        "\n",
        "    # Retrieve NLTK stopwords and remove keywords to create stopword set\n",
        "    stopwords_set = set(stopwords.words('english'))\n",
        "    stops = stopwords_set - keywords\n",
        "\n",
        "    # Remove stopwords from text\n",
        "    text = [w for w in text if not w in stops]\n",
        "    text = \" \".join(text)\n",
        "\n",
        "    # Perform additional text cleaning using regular expressions\n",
        "    text = re.sub(r\"[^A-Za-z0-9^,!./\\'+-=]\",\" \",text)\n",
        "    text = re.sub(r\"what's\",\"what is\",text)\n",
        "    text = re.sub(r\"\\'s\",\" \",text)\n",
        "    text = re.sub(r\"\\'ve\",\" have \",text)\n",
        "    text = re.sub(r\"n't\",\" not \",text)\n",
        "    text = re.sub(r\"i'm\",\" i am \",text)\n",
        "    text = re.sub(r\"\\'re\",\" are \",text)\n",
        "    text = re.sub(r\"\\'d\", \" would \",text)\n",
        "    text = re.sub(r\"\\'ll\", \" will \",text)\n",
        "    text = re.sub(r\",\",\" \",text)\n",
        "    text = re.sub(r\"\\.\",\" \",text)\n",
        "    text = re.sub(r\"!\",\" ! \",text)\n",
        "    text = re.sub(r\"\\/\",\" \",text)\n",
        "    text = re.sub(r\"\\^\",\" ^ \",text)\n",
        "    text = re.sub(r\"\\+\",\" + \",text)\n",
        "    text = re.sub(r\"\\-\",\" - \",text)\n",
        "    text = re.sub(r\"\\=\",\" = \",text)\n",
        "    text = re.sub(r\"'\",\" \",text)\n",
        "    text = re.sub(r\"(\\d+)(k)\",r\"\\g<1>000\",text)\n",
        "    text = re.sub(r\":\", \" : \",text)\n",
        "    text = re.sub(r\" e g \",\" eg \",text)\n",
        "    text = re.sub(r\"b g \",\" bg \",text)\n",
        "    text = re.sub(r\" u s \",\" american \",text)\n",
        "    text = re.sub(r\"\\0s\",\"0\",text)\n",
        "    text = re.sub(r\"e - mail\",\"email\",text)\n",
        "    text = re.sub(r\"\\s{2,}\",\" \",text)\n",
        "\n",
        "    # Split text into words again\n",
        "    text = text.split()\n",
        "\n",
        "    # Initialize WordNetLemmatizer for lemmatization\n",
        "    lemmatizer = WordNetLemmatizer()\n",
        "\n",
        "    # Lemmatize words\n",
        "    lemmatized_words = [lemmatizer.lemmatize(word) for word in text]\n",
        "\n",
        "    # Join lemmatized words into cleaned text\n",
        "    text = \" \".join(lemmatized_words)\n",
        "\n",
        "    return text"
      ],
      "execution_count": null,
      "outputs": []
    },
    {
      "cell_type": "code",
      "metadata": {
        "id": "FeMBNFKXW60I",
        "colab": {
          "base_uri": "https://localhost:8080/",
          "height": 402
        },
        "outputId": "7b96437a-c45f-4b37-d585-0ba9069af2ae"
      },
      "source": [
        "# Let's have a look at our data again\n",
        "df"
      ],
      "execution_count": null,
      "outputs": [
        {
          "output_type": "execute_result",
          "data": {
            "text/html": [
              "<div>\n",
              "<style scoped>\n",
              "    .dataframe tbody tr th:only-of-type {\n",
              "        vertical-align: middle;\n",
              "    }\n",
              "\n",
              "    .dataframe tbody tr th {\n",
              "        vertical-align: top;\n",
              "    }\n",
              "\n",
              "    .dataframe thead th {\n",
              "        text-align: right;\n",
              "    }\n",
              "</style>\n",
              "<table border=\"1\" class=\"dataframe\">\n",
              "  <thead>\n",
              "    <tr style=\"text-align: right;\">\n",
              "      <th></th>\n",
              "      <th>sentiment</th>\n",
              "      <th>text</th>\n",
              "    </tr>\n",
              "  </thead>\n",
              "  <tbody>\n",
              "    <tr>\n",
              "      <th>0</th>\n",
              "      <td>sadness</td>\n",
              "      <td>Layin n bed with a headache  ughhhh...waitin o...</td>\n",
              "    </tr>\n",
              "    <tr>\n",
              "      <th>1</th>\n",
              "      <td>sadness</td>\n",
              "      <td>Funeral ceremony...gloomy friday...</td>\n",
              "    </tr>\n",
              "    <tr>\n",
              "      <th>2</th>\n",
              "      <td>neutral</td>\n",
              "      <td>@dannycastillo We want to trade with someone w...</td>\n",
              "    </tr>\n",
              "    <tr>\n",
              "      <th>3</th>\n",
              "      <td>worry</td>\n",
              "      <td>Re-pinging @ghostridah14: why didn't you go to...</td>\n",
              "    </tr>\n",
              "    <tr>\n",
              "      <th>4</th>\n",
              "      <td>sadness</td>\n",
              "      <td>I should be sleep, but im not! thinking about ...</td>\n",
              "    </tr>\n",
              "    <tr>\n",
              "      <th>...</th>\n",
              "      <td>...</td>\n",
              "      <td>...</td>\n",
              "    </tr>\n",
              "    <tr>\n",
              "      <th>27576</th>\n",
              "      <td>neutral</td>\n",
              "      <td>@jasimmo Ooo showing of your French skills!! l...</td>\n",
              "    </tr>\n",
              "    <tr>\n",
              "      <th>27577</th>\n",
              "      <td>neutral</td>\n",
              "      <td>@sendsome2me haha, yeah. Twitter has many uses...</td>\n",
              "    </tr>\n",
              "    <tr>\n",
              "      <th>27578</th>\n",
              "      <td>happiness</td>\n",
              "      <td>Succesfully following Tayla!!</td>\n",
              "    </tr>\n",
              "    <tr>\n",
              "      <th>27579</th>\n",
              "      <td>neutral</td>\n",
              "      <td>@JohnLloydTaylor</td>\n",
              "    </tr>\n",
              "    <tr>\n",
              "      <th>27580</th>\n",
              "      <td>happiness</td>\n",
              "      <td>@niariley WASSUP BEAUTIFUL!!! FOLLOW ME!!  PEE...</td>\n",
              "    </tr>\n",
              "  </tbody>\n",
              "</table>\n",
              "<p>27581 rows × 2 columns</p>\n",
              "</div>"
            ],
            "text/plain": [
              "       sentiment                                               text\n",
              "0        sadness  Layin n bed with a headache  ughhhh...waitin o...\n",
              "1        sadness                Funeral ceremony...gloomy friday...\n",
              "2        neutral  @dannycastillo We want to trade with someone w...\n",
              "3          worry  Re-pinging @ghostridah14: why didn't you go to...\n",
              "4        sadness  I should be sleep, but im not! thinking about ...\n",
              "...          ...                                                ...\n",
              "27576    neutral  @jasimmo Ooo showing of your French skills!! l...\n",
              "27577    neutral  @sendsome2me haha, yeah. Twitter has many uses...\n",
              "27578  happiness                      Succesfully following Tayla!!\n",
              "27579    neutral                                   @JohnLloydTaylor\n",
              "27580  happiness  @niariley WASSUP BEAUTIFUL!!! FOLLOW ME!!  PEE...\n",
              "\n",
              "[27581 rows x 2 columns]"
            ]
          },
          "metadata": {
            "tags": []
          },
          "execution_count": 22
        }
      ]
    },
    {
      "cell_type": "code",
      "metadata": {
        "id": "-35te85oW60K",
        "colab": {
          "base_uri": "https://localhost:8080/",
          "height": 66,
          "referenced_widgets": [
            "245980cdd8974738859faa534415b5f9",
            "122aafe7460b48a0b62d168b9f54c91f",
            "0e0ad8436ebf498f8eeaf1c297931e0b",
            "a8577fd89bc34f758e5edbfd2c3ed608",
            "9fc5c418110e4098a53d2d61fdebe3c5",
            "a4578afab0744138831f9cc42d3206e3",
            "160ef1656f12486ebf4d004d3441aa77",
            "62adec7bd1554ae3bcdb5a5ce1a36b0d"
          ]
        },
        "outputId": "943c3ccb-0306-4def-981d-4f8aee4059f9"
      },
      "source": [
        "# Apply the expand_text function to each element in the 'text' column of DataFrame 'df'\n",
        "df['text'] = df['text'].progress_apply(lambda x : expand_text(x))"
      ],
      "execution_count": null,
      "outputs": [
        {
          "output_type": "display_data",
          "data": {
            "application/vnd.jupyter.widget-view+json": {
              "model_id": "245980cdd8974738859faa534415b5f9",
              "version_minor": 0,
              "version_major": 2
            },
            "text/plain": [
              "HBox(children=(FloatProgress(value=0.0, max=27581.0), HTML(value='')))"
            ]
          },
          "metadata": {
            "tags": []
          }
        },
        {
          "output_type": "stream",
          "text": [
            "\n"
          ],
          "name": "stdout"
        }
      ]
    },
    {
      "cell_type": "code",
      "metadata": {
        "id": "Y1jhZygOrY8L",
        "colab": {
          "base_uri": "https://localhost:8080/",
          "height": 101
        },
        "outputId": "d553ce8d-308d-461a-9cdc-c2b241cbb084"
      },
      "source": [
        "# Downloading stopwords and wordnet\n",
        "nltk.download('stopwords')\n",
        "nltk.download('wordnet')"
      ],
      "execution_count": null,
      "outputs": [
        {
          "output_type": "stream",
          "text": [
            "[nltk_data] Downloading package stopwords to /root/nltk_data...\n",
            "[nltk_data]   Package stopwords is already up-to-date!\n",
            "[nltk_data] Downloading package wordnet to /root/nltk_data...\n",
            "[nltk_data]   Package wordnet is already up-to-date!\n"
          ],
          "name": "stdout"
        },
        {
          "output_type": "execute_result",
          "data": {
            "text/plain": [
              "True"
            ]
          },
          "metadata": {
            "tags": []
          },
          "execution_count": 24
        }
      ]
    },
    {
      "cell_type": "code",
      "metadata": {
        "id": "2VFh4kB0W60M",
        "colab": {
          "base_uri": "https://localhost:8080/",
          "height": 66,
          "referenced_widgets": [
            "1feb29c1be164134ace73a3eba64f3cc",
            "95af96a86361422c91d7904a663093bb",
            "4f414c2d42724f06b5194bbe5a6d3a5a",
            "569d91f5277d4f069e4ff6cc998078a3",
            "6afe0b783c34455e9f9859aff6d66462",
            "667b2ab496c24b189fe3699cdbba314b",
            "3d616f5b30a449e2bb4238ce340b0037",
            "bd10c3751bc44228afcb01e4736644ca"
          ]
        },
        "outputId": "6d59aee6-741a-457c-8500-c5299dcf30f6"
      },
      "source": [
        "# Apply the clean_text function to each element in the 'text' column of DataFrame 'df'\n",
        "df['text'] = df['text'].progress_apply(lambda x: clean_text(x))"
      ],
      "execution_count": null,
      "outputs": [
        {
          "output_type": "display_data",
          "data": {
            "application/vnd.jupyter.widget-view+json": {
              "model_id": "1feb29c1be164134ace73a3eba64f3cc",
              "version_minor": 0,
              "version_major": 2
            },
            "text/plain": [
              "HBox(children=(FloatProgress(value=0.0, max=27581.0), HTML(value='')))"
            ]
          },
          "metadata": {
            "tags": []
          }
        },
        {
          "output_type": "stream",
          "text": [
            "\n"
          ],
          "name": "stdout"
        }
      ]
    },
    {
      "cell_type": "code",
      "metadata": {
        "id": "ZaUjWtyEW60N",
        "colab": {
          "base_uri": "https://localhost:8080/",
          "height": 118
        },
        "outputId": "4ec819a2-8fdb-4999-e809-e9de7f62c14c"
      },
      "source": [
        "# Counting the value of each sentiment\n",
        "df.sentiment.value_counts()"
      ],
      "execution_count": null,
      "outputs": [
        {
          "output_type": "execute_result",
          "data": {
            "text/plain": [
              "neutral      8638\n",
              "worry        8459\n",
              "happiness    5209\n",
              "sadness      5165\n",
              "anger         110\n",
              "Name: sentiment, dtype: int64"
            ]
          },
          "metadata": {
            "tags": []
          },
          "execution_count": 26
        }
      ]
    },
    {
      "cell_type": "code",
      "metadata": {
        "id": "xPatjX9vW60Q",
        "colab": {
          "base_uri": "https://localhost:8080/",
          "height": 402
        },
        "outputId": "1807ca28-b6ea-46c7-af0a-6889307857a4"
      },
      "source": [
        "# Let's see how our dataset look like\n",
        "df"
      ],
      "execution_count": null,
      "outputs": [
        {
          "output_type": "execute_result",
          "data": {
            "text/html": [
              "<div>\n",
              "<style scoped>\n",
              "    .dataframe tbody tr th:only-of-type {\n",
              "        vertical-align: middle;\n",
              "    }\n",
              "\n",
              "    .dataframe tbody tr th {\n",
              "        vertical-align: top;\n",
              "    }\n",
              "\n",
              "    .dataframe thead th {\n",
              "        text-align: right;\n",
              "    }\n",
              "</style>\n",
              "<table border=\"1\" class=\"dataframe\">\n",
              "  <thead>\n",
              "    <tr style=\"text-align: right;\">\n",
              "      <th></th>\n",
              "      <th>sentiment</th>\n",
              "      <th>text</th>\n",
              "    </tr>\n",
              "  </thead>\n",
              "  <tbody>\n",
              "    <tr>\n",
              "      <th>0</th>\n",
              "      <td>sadness</td>\n",
              "      <td>layin n bed headache ughhhh waitin call</td>\n",
              "    </tr>\n",
              "    <tr>\n",
              "      <th>1</th>\n",
              "      <td>sadness</td>\n",
              "      <td>funeral ceremony gloomy friday</td>\n",
              "    </tr>\n",
              "    <tr>\n",
              "      <th>2</th>\n",
              "      <td>neutral</td>\n",
              "      <td>dannycastillo want trade someone houston ticke...</td>\n",
              "    </tr>\n",
              "    <tr>\n",
              "      <th>3</th>\n",
              "      <td>worry</td>\n",
              "      <td>re - pinging ghostridah14 : not go prom bc bf ...</td>\n",
              "    </tr>\n",
              "    <tr>\n",
              "      <th>4</th>\n",
              "      <td>sadness</td>\n",
              "      <td>sleep im not ! thinking old friend want marrie...</td>\n",
              "    </tr>\n",
              "    <tr>\n",
              "      <th>...</th>\n",
              "      <td>...</td>\n",
              "      <td>...</td>\n",
              "    </tr>\n",
              "    <tr>\n",
              "      <th>27576</th>\n",
              "      <td>neutral</td>\n",
              "      <td>jasimmo ooo showing french skill ! ! lol thing...</td>\n",
              "    </tr>\n",
              "    <tr>\n",
              "      <th>27577</th>\n",
              "      <td>neutral</td>\n",
              "      <td>sendsome2me haha yeah twitter many us know ppl...</td>\n",
              "    </tr>\n",
              "    <tr>\n",
              "      <th>27578</th>\n",
              "      <td>happiness</td>\n",
              "      <td>succesfully following tayla ! !</td>\n",
              "    </tr>\n",
              "    <tr>\n",
              "      <th>27579</th>\n",
              "      <td>neutral</td>\n",
              "      <td>johnlloydtaylor</td>\n",
              "    </tr>\n",
              "    <tr>\n",
              "      <th>27580</th>\n",
              "      <td>happiness</td>\n",
              "      <td>niariley wassup beautiful ! ! ! follow me ! ! ...</td>\n",
              "    </tr>\n",
              "  </tbody>\n",
              "</table>\n",
              "<p>27581 rows × 2 columns</p>\n",
              "</div>"
            ],
            "text/plain": [
              "       sentiment                                               text\n",
              "0        sadness            layin n bed headache ughhhh waitin call\n",
              "1        sadness                     funeral ceremony gloomy friday\n",
              "2        neutral  dannycastillo want trade someone houston ticke...\n",
              "3          worry  re - pinging ghostridah14 : not go prom bc bf ...\n",
              "4        sadness  sleep im not ! thinking old friend want marrie...\n",
              "...          ...                                                ...\n",
              "27576    neutral  jasimmo ooo showing french skill ! ! lol thing...\n",
              "27577    neutral  sendsome2me haha yeah twitter many us know ppl...\n",
              "27578  happiness                    succesfully following tayla ! !\n",
              "27579    neutral                                    johnlloydtaylor\n",
              "27580  happiness  niariley wassup beautiful ! ! ! follow me ! ! ...\n",
              "\n",
              "[27581 rows x 2 columns]"
            ]
          },
          "metadata": {
            "tags": []
          },
          "execution_count": 27
        }
      ]
    },
    {
      "cell_type": "markdown",
      "source": [
        "##**Label Encoding**"
      ],
      "metadata": {
        "id": "k6kfOztgnSC-"
      }
    },
    {
      "cell_type": "code",
      "metadata": {
        "id": "r8GaJ6mFW60S"
      },
      "source": [
        "#Feature encoding\n",
        "from sklearn.preprocessing import LabelEncoder\n",
        "lbl_enc = LabelEncoder()\n",
        "y = lbl_enc.fit_transform(df.sentiment.values)"
      ],
      "execution_count": null,
      "outputs": []
    },
    {
      "cell_type": "code",
      "metadata": {
        "scrolled": true,
        "id": "GieZdEdaW60V"
      },
      "source": [
        "#For building a dataframe for mapping emotions to label number\n",
        "y_series = pd.Series(y)\n",
        "\n",
        "#inverse transform to find  mapped emotions\n",
        "emo_cols_series = pd.Series(lbl_enc.inverse_transform(y))"
      ],
      "execution_count": null,
      "outputs": []
    },
    {
      "cell_type": "code",
      "metadata": {
        "scrolled": true,
        "id": "A0XQMXjpW60X"
      },
      "source": [
        "# Creating dataframe\n",
        "emo_df = pd.DataFrame()\n",
        "\n",
        "# Create a new DataFrame emo_df by concatenating emo_cols_series and y_series along axis 1 (columns)\n",
        "emo_df = pd.concat([emo_cols_series,y_series],axis=1)\n",
        "\n",
        "# Rename columns of emo_df to 'emotion' and 'Label_mapped'\n",
        "emo_df.columns=['emotion','Label_mapped']"
      ],
      "execution_count": null,
      "outputs": []
    },
    {
      "cell_type": "code",
      "metadata": {
        "scrolled": false,
        "id": "-43xJT31W60Y",
        "colab": {
          "base_uri": "https://localhost:8080/",
          "height": 195
        },
        "outputId": "1dbab936-b156-43b2-b414-528d4dffd381"
      },
      "source": [
        "# Drop duplicate rows from emo_df based on all columns\n",
        "emo_df = emo_df.drop_duplicates()\n",
        "\n",
        "# Sort emo_df by the 'Label_mapped' column in ascending order\n",
        "emo_df.sort_values(by=['Label_mapped'], ascending=True)"
      ],
      "execution_count": null,
      "outputs": [
        {
          "output_type": "execute_result",
          "data": {
            "text/html": [
              "<div>\n",
              "<style scoped>\n",
              "    .dataframe tbody tr th:only-of-type {\n",
              "        vertical-align: middle;\n",
              "    }\n",
              "\n",
              "    .dataframe tbody tr th {\n",
              "        vertical-align: top;\n",
              "    }\n",
              "\n",
              "    .dataframe thead th {\n",
              "        text-align: right;\n",
              "    }\n",
              "</style>\n",
              "<table border=\"1\" class=\"dataframe\">\n",
              "  <thead>\n",
              "    <tr style=\"text-align: right;\">\n",
              "      <th></th>\n",
              "      <th>emotion</th>\n",
              "      <th>Label_mapped</th>\n",
              "    </tr>\n",
              "  </thead>\n",
              "  <tbody>\n",
              "    <tr>\n",
              "      <th>394</th>\n",
              "      <td>anger</td>\n",
              "      <td>0</td>\n",
              "    </tr>\n",
              "    <tr>\n",
              "      <th>34</th>\n",
              "      <td>happiness</td>\n",
              "      <td>1</td>\n",
              "    </tr>\n",
              "    <tr>\n",
              "      <th>2</th>\n",
              "      <td>neutral</td>\n",
              "      <td>2</td>\n",
              "    </tr>\n",
              "    <tr>\n",
              "      <th>0</th>\n",
              "      <td>sadness</td>\n",
              "      <td>3</td>\n",
              "    </tr>\n",
              "    <tr>\n",
              "      <th>3</th>\n",
              "      <td>worry</td>\n",
              "      <td>4</td>\n",
              "    </tr>\n",
              "  </tbody>\n",
              "</table>\n",
              "</div>"
            ],
            "text/plain": [
              "       emotion  Label_mapped\n",
              "394      anger             0\n",
              "34   happiness             1\n",
              "2      neutral             2\n",
              "0      sadness             3\n",
              "3        worry             4"
            ]
          },
          "metadata": {
            "tags": []
          },
          "execution_count": 32
        }
      ]
    },
    {
      "cell_type": "markdown",
      "metadata": {
        "id": "XOw4HxhUW60b"
      },
      "source": [
        "##**Importing Required Libraries**"
      ]
    },
    {
      "cell_type": "code",
      "metadata": {
        "scrolled": true,
        "id": "vhNxTjhgW60b"
      },
      "source": [
        "#Train test split\n",
        "from sklearn.model_selection import train_test_split\n",
        "from sklearn.feature_extraction.text import CountVectorizer\n",
        "from sklearn.feature_extraction.text import TfidfTransformer\n",
        "from sklearn.naive_bayes import MultinomialNB"
      ],
      "execution_count": null,
      "outputs": []
    },
    {
      "cell_type": "markdown",
      "source": [
        "##**Train-Test Split**"
      ],
      "metadata": {
        "id": "JE3ih3nvoX8I"
      }
    },
    {
      "cell_type": "code",
      "source": [
        "# Splitting the dataset into train and test\n",
        "X_train,X_val,y_train,y_val = train_test_split(df.text.values,df.sentiment.values,random_state=42, test_size=0.1, shuffle=True)\n"
      ],
      "metadata": {
        "id": "vSRrPC_aoU53"
      },
      "execution_count": null,
      "outputs": []
    },
    {
      "cell_type": "markdown",
      "metadata": {
        "id": "LcZNTo6sW60d"
      },
      "source": [
        "##**Using Tf-idf**"
      ]
    },
    {
      "cell_type": "code",
      "metadata": {
        "scrolled": true,
        "id": "EuycmMxbW60d"
      },
      "source": [
        "#Extracting Tf-idf features\n",
        "from sklearn.feature_extraction.text import TfidfVectorizer\n",
        "tfidf = TfidfVectorizer(min_df=3,  max_features=None,\n",
        "            strip_accents='unicode', analyzer='word',token_pattern=r'\\w{1,}',\n",
        "            ngram_range=(1, 3), use_idf=1,smooth_idf=1,sublinear_tf=1)"
      ],
      "execution_count": null,
      "outputs": []
    },
    {
      "cell_type": "code",
      "metadata": {
        "scrolled": true,
        "id": "iJH7inbxW60f"
      },
      "source": [
        "#TF-idf approach\n",
        "tfidf.fit(list(X_train) + list(X_val))\n",
        "X_train_tfidf = tfidf.transform(X_train)\n",
        "X_val_tfidf = tfidf.transform(X_val)"
      ],
      "execution_count": null,
      "outputs": []
    },
    {
      "cell_type": "markdown",
      "metadata": {
        "id": "XW9Ty7MZW60h"
      },
      "source": [
        "##**Using Countvectorizer**"
      ]
    },
    {
      "cell_type": "code",
      "metadata": {
        "scrolled": true,
        "id": "HuBgpEvjW60h",
        "colab": {
          "base_uri": "https://localhost:8080/",
          "height": 118
        },
        "outputId": "33d9e8ac-9362-4a03-94e9-9745732aab69"
      },
      "source": [
        "#Count Vector approach\n",
        "from sklearn.feature_extraction.text import CountVectorizer\n",
        "count_vec = CountVectorizer(analyzer='word',token_pattern=r'\\w{1,}',\n",
        "            ngram_range=(1, 3))\n",
        "count_vec.fit(list(X_train) + list(X_val))"
      ],
      "execution_count": null,
      "outputs": [
        {
          "output_type": "execute_result",
          "data": {
            "text/plain": [
              "CountVectorizer(analyzer='word', binary=False, decode_error='strict',\n",
              "                dtype=<class 'numpy.int64'>, encoding='utf-8', input='content',\n",
              "                lowercase=True, max_df=1.0, max_features=None, min_df=1,\n",
              "                ngram_range=(1, 3), preprocessor=None, stop_words=None,\n",
              "                strip_accents=None, token_pattern='\\\\w{1,}', tokenizer=None,\n",
              "                vocabulary=None)"
            ]
          },
          "metadata": {
            "tags": []
          },
          "execution_count": 36
        }
      ]
    },
    {
      "cell_type": "code",
      "metadata": {
        "scrolled": true,
        "id": "smlDRgArW60j"
      },
      "source": [
        "# Implementing countvectorizer in train and validation set\n",
        "X_train_count_vec = count_vec.transform(X_train)\n",
        "X_val_count_vec = count_vec.transform(X_val)"
      ],
      "execution_count": null,
      "outputs": []
    },
    {
      "cell_type": "markdown",
      "metadata": {
        "id": "TXbm9-OIW60m"
      },
      "source": [
        "#**Final Result**"
      ]
    },
    {
      "cell_type": "markdown",
      "source": [
        "##**Using tf-idf for models**"
      ],
      "metadata": {
        "id": "ckhuLw38pHrH"
      }
    },
    {
      "cell_type": "markdown",
      "metadata": {
        "id": "S_owJLyBW60a"
      },
      "source": [
        "#**Model building**"
      ]
    },
    {
      "cell_type": "markdown",
      "source": [
        "#**Multinomial Naive Bayes Model**"
      ],
      "metadata": {
        "id": "JuDLjTizqk9b"
      }
    },
    {
      "cell_type": "code",
      "metadata": {
        "scrolled": true,
        "id": "c0XTSKQ5W60o",
        "colab": {
          "base_uri": "https://localhost:8080/",
          "height": 34
        },
        "outputId": "9cf9be1d-1819-451a-d6d2-20c3a4c46368"
      },
      "source": [
        "# Using Multinomial naive bayes model\n",
        "from sklearn.metrics import accuracy_score\n",
        "from sklearn.naive_bayes import MultinomialNB\n",
        "nb = MultinomialNB()\n",
        "nb.fit(X_train_tfidf, y_train)\n",
        "y_pred = nb.predict(X_val_tfidf)\n",
        "print('naive bayes tfidf accuracy %s' % accuracy_score(y_pred, y_val))"
      ],
      "execution_count": null,
      "outputs": [
        {
          "output_type": "stream",
          "text": [
            "naive bayes tfidf accuracy 0.43385284523378037\n"
          ],
          "name": "stdout"
        }
      ]
    },
    {
      "cell_type": "markdown",
      "source": [
        "#**Random Forest Classifier Model**"
      ],
      "metadata": {
        "id": "IVgB4mUmqtv2"
      }
    },
    {
      "cell_type": "code",
      "metadata": {
        "scrolled": true,
        "id": "ePslFLfSW60q",
        "colab": {
          "base_uri": "https://localhost:8080/",
          "height": 34
        },
        "outputId": "f996b1e0-032e-4fa8-dd89-ac37efb28076"
      },
      "source": [
        "# Using Random Forest Classifier Model\n",
        "from sklearn.ensemble import RandomForestClassifier\n",
        "rf = RandomForestClassifier(n_estimators=500)\n",
        "rf.fit(X_train_tfidf,y_train)\n",
        "y_pred2 = rf.predict(X_val_tfidf)\n",
        "print('Random forest tfidf accuracy %s' % accuracy_score(y_pred2, y_val))"
      ],
      "execution_count": null,
      "outputs": [
        {
          "output_type": "stream",
          "text": [
            "Random forest tfidf accuracy 0.45994925697716565\n"
          ],
          "name": "stdout"
        }
      ]
    },
    {
      "cell_type": "markdown",
      "source": [
        "#**SGD Classifier Model**"
      ],
      "metadata": {
        "id": "Gz8bBpqIrHrz"
      }
    },
    {
      "cell_type": "code",
      "metadata": {
        "scrolled": true,
        "id": "npZ-oD4VW60s",
        "colab": {
          "base_uri": "https://localhost:8080/",
          "height": 34
        },
        "outputId": "3118217b-fc24-4c1a-d76a-4b975d5b79ef"
      },
      "source": [
        "# Using SGD Classifier Model\n",
        "from sklearn.linear_model import SGDClassifier\n",
        "lsvm = SGDClassifier(alpha=0.001, random_state=5, max_iter=15, tol=None)\n",
        "lsvm.fit(X_train_tfidf, y_train)\n",
        "y_pred_sgd = lsvm.predict(X_val_tfidf)\n",
        "print('SGD using tfidf accuracy %s' % accuracy_score(y_pred_sgd, y_val))"
      ],
      "execution_count": null,
      "outputs": [
        {
          "output_type": "stream",
          "text": [
            "SGD using tfidf accuracy 0.47191011235955055\n"
          ],
          "name": "stdout"
        }
      ]
    },
    {
      "cell_type": "markdown",
      "source": [
        "#**Logistic Regression Model**"
      ],
      "metadata": {
        "id": "yC7iRKlqrs79"
      }
    },
    {
      "cell_type": "code",
      "metadata": {
        "id": "E7cf2lcyW60u",
        "colab": {
          "base_uri": "https://localhost:8080/",
          "height": 168
        },
        "outputId": "14d61137-974e-433e-f833-c580ccb400fb"
      },
      "source": [
        "# Using Logistic Regression Model\n",
        "from sklearn.linear_model import LogisticRegression\n",
        "lr = LogisticRegression(C=1.0)\n",
        "lr.fit(X_train_tfidf,y_train)\n",
        "y_pred = lr.predict(X_val_tfidf)\n",
        "print('Accuracy with Logistic Regression and Tf-idf is {}'.format(accuracy_score(y_pred,y_val)))"
      ],
      "execution_count": null,
      "outputs": [
        {
          "output_type": "stream",
          "text": [
            "Accuracy with Logistic Regression and Tf-idf is 0.4617615077926785\n"
          ],
          "name": "stdout"
        },
        {
          "output_type": "stream",
          "text": [
            "/usr/local/lib/python3.6/dist-packages/sklearn/linear_model/_logistic.py:940: ConvergenceWarning: lbfgs failed to converge (status=1):\n",
            "STOP: TOTAL NO. of ITERATIONS REACHED LIMIT.\n",
            "\n",
            "Increase the number of iterations (max_iter) or scale the data as shown in:\n",
            "    https://scikit-learn.org/stable/modules/preprocessing.html\n",
            "Please also refer to the documentation for alternative solver options:\n",
            "    https://scikit-learn.org/stable/modules/linear_model.html#logistic-regression\n",
            "  extra_warning_msg=_LOGISTIC_SOLVER_CONVERGENCE_MSG)\n"
          ],
          "name": "stderr"
        }
      ]
    },
    {
      "cell_type": "markdown",
      "source": [
        "#**USING COUNTVECTORIZER FOR ALL THE MODELS**"
      ],
      "metadata": {
        "id": "yaBrY_yisNc1"
      }
    },
    {
      "cell_type": "markdown",
      "source": [
        "##**Multinomial Naive Bayes**"
      ],
      "metadata": {
        "id": "gOck0eMasYc1"
      }
    },
    {
      "cell_type": "code",
      "metadata": {
        "scrolled": true,
        "id": "YMiLMqexW60y",
        "colab": {
          "base_uri": "https://localhost:8080/",
          "height": 34
        },
        "outputId": "eaebad96-65ff-4279-eaff-05e9d771d36d"
      },
      "source": [
        "#Using Countvec for model\n",
        "from sklearn.metrics import accuracy_score\n",
        "from sklearn.naive_bayes import MultinomialNB\n",
        "nb = MultinomialNB()\n",
        "nb.fit(X_train_count_vec, y_train)\n",
        "y_pred = nb.predict(X_val_count_vec)\n",
        "print('naive bayes count_vec accuracy %s' % accuracy_score(y_pred, y_val))"
      ],
      "execution_count": null,
      "outputs": [
        {
          "output_type": "stream",
          "text": [
            "naive bayes count_vec accuracy 0.44073939833272924\n"
          ],
          "name": "stdout"
        }
      ]
    },
    {
      "cell_type": "markdown",
      "source": [
        "##**SGD Classifier**"
      ],
      "metadata": {
        "id": "tTEBbIe0sh5Y"
      }
    },
    {
      "cell_type": "code",
      "metadata": {
        "scrolled": true,
        "id": "Mm5MQWtKW600",
        "colab": {
          "base_uri": "https://localhost:8080/",
          "height": 34
        },
        "outputId": "d8008bb6-2f20-468e-de0e-7f7a832fb74f"
      },
      "source": [
        "# Using SGD Classifier\n",
        "from sklearn.linear_model import SGDClassifier\n",
        "lsvm = SGDClassifier()\n",
        "lsvm.fit(X_train_count_vec, y_train)\n",
        "y_pred = lsvm.predict(X_val_count_vec)\n",
        "print('svm using countvec accuracy %s' % accuracy_score(y_pred, y_val))"
      ],
      "execution_count": null,
      "outputs": [
        {
          "output_type": "stream",
          "text": [
            "svm using countvec accuracy 0.4635737586081914\n"
          ],
          "name": "stdout"
        }
      ]
    },
    {
      "cell_type": "markdown",
      "source": [
        "#**Logistic Regression**"
      ],
      "metadata": {
        "id": "RnyM2Rn0sxAq"
      }
    },
    {
      "cell_type": "code",
      "metadata": {
        "id": "MBKvEN4MW603",
        "colab": {
          "base_uri": "https://localhost:8080/",
          "height": 168
        },
        "outputId": "d3f66f8d-1449-4c6e-ce63-37af82d1718a"
      },
      "source": [
        "# Implementing countvectorizer on Logistic Regression\n",
        "from sklearn.linear_model import LogisticRegression\n",
        "lr = LogisticRegression(C=1.0)\n",
        "lr.fit(X_train_count_vec,y_train)\n",
        "y_pred = lr.predict(X_val_count_vec)\n",
        "print('Accuracy with Logistic Regression and CountVec is {}'.format(accuracy_score(y_pred,y_val)))"
      ],
      "execution_count": null,
      "outputs": [
        {
          "output_type": "stream",
          "text": [
            "Accuracy with Logistic Regression and CountVec is 0.4697354113809351\n"
          ],
          "name": "stdout"
        },
        {
          "output_type": "stream",
          "text": [
            "/usr/local/lib/python3.6/dist-packages/sklearn/linear_model/_logistic.py:940: ConvergenceWarning: lbfgs failed to converge (status=1):\n",
            "STOP: TOTAL NO. of ITERATIONS REACHED LIMIT.\n",
            "\n",
            "Increase the number of iterations (max_iter) or scale the data as shown in:\n",
            "    https://scikit-learn.org/stable/modules/preprocessing.html\n",
            "Please also refer to the documentation for alternative solver options:\n",
            "    https://scikit-learn.org/stable/modules/linear_model.html#logistic-regression\n",
            "  extra_warning_msg=_LOGISTIC_SOLVER_CONVERGENCE_MSG)\n"
          ],
          "name": "stderr"
        }
      ]
    },
    {
      "cell_type": "markdown",
      "source": [
        "##**Generate classification report and confusion matrix for SGD + TF-IDF model**"
      ],
      "metadata": {
        "id": "OdKn9Qv2tBbn"
      }
    },
    {
      "cell_type": "markdown",
      "source": [
        "##**Classification Report**"
      ],
      "metadata": {
        "id": "_n4ddpiutJuz"
      }
    },
    {
      "cell_type": "code",
      "metadata": {
        "id": "jO_5WTnKb1u5"
      },
      "source": [
        "# Importing the classification Report\n",
        "from sklearn.metrics import classification_report"
      ],
      "execution_count": null,
      "outputs": []
    },
    {
      "cell_type": "markdown",
      "source": [
        "##**Precision, Recall, Accuracy and F1-Score**"
      ],
      "metadata": {
        "id": "w8u8vJy6th1r"
      }
    },
    {
      "cell_type": "code",
      "metadata": {
        "id": "3q3FZt1ThuMK",
        "colab": {
          "base_uri": "https://localhost:8080/",
          "height": 272
        },
        "outputId": "873785ca-542c-434c-f943-17c44c80d709"
      },
      "source": [
        "# Printing the overall accuracy using Precision, Recall, accuracy and F1-score.\n",
        "print(classification_report(y_val,y_pred_sgd))"
      ],
      "execution_count": null,
      "outputs": [
        {
          "output_type": "stream",
          "text": [
            "              precision    recall  f1-score   support\n",
            "\n",
            "       anger       0.00      0.00      0.00         4\n",
            "   happiness       0.52      0.57      0.54       532\n",
            "     neutral       0.45      0.54      0.49       827\n",
            "     sadness       0.44      0.26      0.32       518\n",
            "       worry       0.48      0.47      0.48       878\n",
            "\n",
            "    accuracy                           0.47      2759\n",
            "   macro avg       0.38      0.37      0.37      2759\n",
            "weighted avg       0.47      0.47      0.46      2759\n",
            "\n"
          ],
          "name": "stdout"
        },
        {
          "output_type": "stream",
          "text": [
            "/usr/local/lib/python3.6/dist-packages/sklearn/metrics/_classification.py:1272: UndefinedMetricWarning: Precision and F-score are ill-defined and being set to 0.0 in labels with no predicted samples. Use `zero_division` parameter to control this behavior.\n",
            "  _warn_prf(average, modifier, msg_start, len(result))\n"
          ],
          "name": "stderr"
        }
      ]
    }
  ]
}