{
  "nbformat": 4,
  "nbformat_minor": 0,
  "metadata": {
    "kernelspec": {
      "display_name": "Python 3",
      "language": "python",
      "name": "python3"
    },
    "language_info": {
      "codemirror_mode": {
        "name": "ipython",
        "version": 3
      },
      "file_extension": ".py",
      "mimetype": "text/x-python",
      "name": "python",
      "nbconvert_exporter": "python",
      "pygments_lexer": "ipython3",
      "version": "3.6.9"
    },
    "colab": {
      "provenance": []
    },
    "widgets": {
      "application/vnd.jupyter.widget-state+json": {
        "7c1923aec9a2465eb82e1dbe7ed3ab4b": {
          "model_module": "@jupyter-widgets/controls",
          "model_name": "HBoxModel",
          "state": {
            "_view_name": "HBoxView",
            "_dom_classes": [],
            "_model_name": "HBoxModel",
            "_view_module": "@jupyter-widgets/controls",
            "_model_module_version": "1.5.0",
            "_view_count": null,
            "_view_module_version": "1.5.0",
            "box_style": "",
            "layout": "IPY_MODEL_dcfa6984a01a4e4bb33fcd688bae748d",
            "_model_module": "@jupyter-widgets/controls",
            "children": [
              "IPY_MODEL_5b4016a269be429eb233026bcf33e04e",
              "IPY_MODEL_ec0f5e7ce6714e8f85cd73d2cb5c93c9"
            ]
          },
          "model_module_version": "1.5.0"
        },
        "dcfa6984a01a4e4bb33fcd688bae748d": {
          "model_module": "@jupyter-widgets/base",
          "model_name": "LayoutModel",
          "state": {
            "_view_name": "LayoutView",
            "grid_template_rows": null,
            "right": null,
            "justify_content": null,
            "_view_module": "@jupyter-widgets/base",
            "overflow": null,
            "_model_module_version": "1.2.0",
            "_view_count": null,
            "flex_flow": null,
            "width": null,
            "min_width": null,
            "border": null,
            "align_items": null,
            "bottom": null,
            "_model_module": "@jupyter-widgets/base",
            "top": null,
            "grid_column": null,
            "overflow_y": null,
            "overflow_x": null,
            "grid_auto_flow": null,
            "grid_area": null,
            "grid_template_columns": null,
            "flex": null,
            "_model_name": "LayoutModel",
            "justify_items": null,
            "grid_row": null,
            "max_height": null,
            "align_content": null,
            "visibility": null,
            "align_self": null,
            "height": null,
            "min_height": null,
            "padding": null,
            "grid_auto_rows": null,
            "grid_gap": null,
            "max_width": null,
            "order": null,
            "_view_module_version": "1.2.0",
            "grid_template_areas": null,
            "object_position": null,
            "object_fit": null,
            "grid_auto_columns": null,
            "margin": null,
            "display": null,
            "left": null
          },
          "model_module_version": "1.2.0"
        },
        "5b4016a269be429eb233026bcf33e04e": {
          "model_module": "@jupyter-widgets/controls",
          "model_name": "FloatProgressModel",
          "state": {
            "_view_name": "ProgressView",
            "style": "IPY_MODEL_ee5f940d8c0444c4bdf58cc5d1d02f31",
            "_dom_classes": [],
            "description": "100%",
            "_model_name": "FloatProgressModel",
            "bar_style": "success",
            "max": 32636,
            "_view_module": "@jupyter-widgets/controls",
            "_model_module_version": "1.5.0",
            "value": 32636,
            "_view_count": null,
            "_view_module_version": "1.5.0",
            "orientation": "horizontal",
            "min": 0,
            "description_tooltip": null,
            "_model_module": "@jupyter-widgets/controls",
            "layout": "IPY_MODEL_ce74a503800c4e86bac2680350c17106"
          },
          "model_module_version": "1.5.0"
        },
        "ec0f5e7ce6714e8f85cd73d2cb5c93c9": {
          "model_module": "@jupyter-widgets/controls",
          "model_name": "HTMLModel",
          "state": {
            "_view_name": "HTMLView",
            "style": "IPY_MODEL_c615ba5e99b949ab95b0d85268779a16",
            "_dom_classes": [],
            "description": "",
            "_model_name": "HTMLModel",
            "placeholder": "​",
            "_view_module": "@jupyter-widgets/controls",
            "_model_module_version": "1.5.0",
            "value": " 32636/32636 [00:01&lt;00:00, 32362.24it/s]",
            "_view_count": null,
            "_view_module_version": "1.5.0",
            "description_tooltip": null,
            "_model_module": "@jupyter-widgets/controls",
            "layout": "IPY_MODEL_f4a97fa3e1f0475f92de20a0d7cdbe22"
          },
          "model_module_version": "1.5.0"
        },
        "ee5f940d8c0444c4bdf58cc5d1d02f31": {
          "model_module": "@jupyter-widgets/controls",
          "model_name": "ProgressStyleModel",
          "state": {
            "_view_name": "StyleView",
            "_model_name": "ProgressStyleModel",
            "description_width": "initial",
            "_view_module": "@jupyter-widgets/base",
            "_model_module_version": "1.5.0",
            "_view_count": null,
            "_view_module_version": "1.2.0",
            "bar_color": null,
            "_model_module": "@jupyter-widgets/controls"
          },
          "model_module_version": "1.5.0"
        },
        "ce74a503800c4e86bac2680350c17106": {
          "model_module": "@jupyter-widgets/base",
          "model_name": "LayoutModel",
          "state": {
            "_view_name": "LayoutView",
            "grid_template_rows": null,
            "right": null,
            "justify_content": null,
            "_view_module": "@jupyter-widgets/base",
            "overflow": null,
            "_model_module_version": "1.2.0",
            "_view_count": null,
            "flex_flow": null,
            "width": null,
            "min_width": null,
            "border": null,
            "align_items": null,
            "bottom": null,
            "_model_module": "@jupyter-widgets/base",
            "top": null,
            "grid_column": null,
            "overflow_y": null,
            "overflow_x": null,
            "grid_auto_flow": null,
            "grid_area": null,
            "grid_template_columns": null,
            "flex": null,
            "_model_name": "LayoutModel",
            "justify_items": null,
            "grid_row": null,
            "max_height": null,
            "align_content": null,
            "visibility": null,
            "align_self": null,
            "height": null,
            "min_height": null,
            "padding": null,
            "grid_auto_rows": null,
            "grid_gap": null,
            "max_width": null,
            "order": null,
            "_view_module_version": "1.2.0",
            "grid_template_areas": null,
            "object_position": null,
            "object_fit": null,
            "grid_auto_columns": null,
            "margin": null,
            "display": null,
            "left": null
          },
          "model_module_version": "1.2.0"
        },
        "c615ba5e99b949ab95b0d85268779a16": {
          "model_module": "@jupyter-widgets/controls",
          "model_name": "DescriptionStyleModel",
          "state": {
            "_view_name": "StyleView",
            "_model_name": "DescriptionStyleModel",
            "description_width": "",
            "_view_module": "@jupyter-widgets/base",
            "_model_module_version": "1.5.0",
            "_view_count": null,
            "_view_module_version": "1.2.0",
            "_model_module": "@jupyter-widgets/controls"
          },
          "model_module_version": "1.5.0"
        },
        "f4a97fa3e1f0475f92de20a0d7cdbe22": {
          "model_module": "@jupyter-widgets/base",
          "model_name": "LayoutModel",
          "state": {
            "_view_name": "LayoutView",
            "grid_template_rows": null,
            "right": null,
            "justify_content": null,
            "_view_module": "@jupyter-widgets/base",
            "overflow": null,
            "_model_module_version": "1.2.0",
            "_view_count": null,
            "flex_flow": null,
            "width": null,
            "min_width": null,
            "border": null,
            "align_items": null,
            "bottom": null,
            "_model_module": "@jupyter-widgets/base",
            "top": null,
            "grid_column": null,
            "overflow_y": null,
            "overflow_x": null,
            "grid_auto_flow": null,
            "grid_area": null,
            "grid_template_columns": null,
            "flex": null,
            "_model_name": "LayoutModel",
            "justify_items": null,
            "grid_row": null,
            "max_height": null,
            "align_content": null,
            "visibility": null,
            "align_self": null,
            "height": null,
            "min_height": null,
            "padding": null,
            "grid_auto_rows": null,
            "grid_gap": null,
            "max_width": null,
            "order": null,
            "_view_module_version": "1.2.0",
            "grid_template_areas": null,
            "object_position": null,
            "object_fit": null,
            "grid_auto_columns": null,
            "margin": null,
            "display": null,
            "left": null
          },
          "model_module_version": "1.2.0"
        },
        "418d06d5fc464566baafb9df83a580cc": {
          "model_module": "@jupyter-widgets/controls",
          "model_name": "HBoxModel",
          "state": {
            "_view_name": "HBoxView",
            "_dom_classes": [],
            "_model_name": "HBoxModel",
            "_view_module": "@jupyter-widgets/controls",
            "_model_module_version": "1.5.0",
            "_view_count": null,
            "_view_module_version": "1.5.0",
            "box_style": "",
            "layout": "IPY_MODEL_0bdd764ad32e4490b460e2384c1bc7c7",
            "_model_module": "@jupyter-widgets/controls",
            "children": [
              "IPY_MODEL_4ff40f24dd224a2bbe0a4d7a33d1b321",
              "IPY_MODEL_6b9a0ff51f444881896d6b7e6f9fd038"
            ]
          },
          "model_module_version": "1.5.0"
        },
        "0bdd764ad32e4490b460e2384c1bc7c7": {
          "model_module": "@jupyter-widgets/base",
          "model_name": "LayoutModel",
          "state": {
            "_view_name": "LayoutView",
            "grid_template_rows": null,
            "right": null,
            "justify_content": null,
            "_view_module": "@jupyter-widgets/base",
            "overflow": null,
            "_model_module_version": "1.2.0",
            "_view_count": null,
            "flex_flow": null,
            "width": null,
            "min_width": null,
            "border": null,
            "align_items": null,
            "bottom": null,
            "_model_module": "@jupyter-widgets/base",
            "top": null,
            "grid_column": null,
            "overflow_y": null,
            "overflow_x": null,
            "grid_auto_flow": null,
            "grid_area": null,
            "grid_template_columns": null,
            "flex": null,
            "_model_name": "LayoutModel",
            "justify_items": null,
            "grid_row": null,
            "max_height": null,
            "align_content": null,
            "visibility": null,
            "align_self": null,
            "height": null,
            "min_height": null,
            "padding": null,
            "grid_auto_rows": null,
            "grid_gap": null,
            "max_width": null,
            "order": null,
            "_view_module_version": "1.2.0",
            "grid_template_areas": null,
            "object_position": null,
            "object_fit": null,
            "grid_auto_columns": null,
            "margin": null,
            "display": null,
            "left": null
          },
          "model_module_version": "1.2.0"
        },
        "4ff40f24dd224a2bbe0a4d7a33d1b321": {
          "model_module": "@jupyter-widgets/controls",
          "model_name": "FloatProgressModel",
          "state": {
            "_view_name": "ProgressView",
            "style": "IPY_MODEL_52f10aa98d6d46389ec564c5b0fa20f6",
            "_dom_classes": [],
            "description": "100%",
            "_model_name": "FloatProgressModel",
            "bar_style": "success",
            "max": 32636,
            "_view_module": "@jupyter-widgets/controls",
            "_model_module_version": "1.5.0",
            "value": 32636,
            "_view_count": null,
            "_view_module_version": "1.5.0",
            "orientation": "horizontal",
            "min": 0,
            "description_tooltip": null,
            "_model_module": "@jupyter-widgets/controls",
            "layout": "IPY_MODEL_9f3165c6b66949719a142ce2dc15d074"
          },
          "model_module_version": "1.5.0"
        },
        "6b9a0ff51f444881896d6b7e6f9fd038": {
          "model_module": "@jupyter-widgets/controls",
          "model_name": "HTMLModel",
          "state": {
            "_view_name": "HTMLView",
            "style": "IPY_MODEL_7c5c607b1dfb4aaf82234f5229c864de",
            "_dom_classes": [],
            "description": "",
            "_model_name": "HTMLModel",
            "placeholder": "​",
            "_view_module": "@jupyter-widgets/controls",
            "_model_module_version": "1.5.0",
            "value": " 32636/32636 [02:46&lt;00:00, 196.00it/s]",
            "_view_count": null,
            "_view_module_version": "1.5.0",
            "description_tooltip": null,
            "_model_module": "@jupyter-widgets/controls",
            "layout": "IPY_MODEL_188f380468fb4cc380f3501fbc34b9bd"
          },
          "model_module_version": "1.5.0"
        },
        "52f10aa98d6d46389ec564c5b0fa20f6": {
          "model_module": "@jupyter-widgets/controls",
          "model_name": "ProgressStyleModel",
          "state": {
            "_view_name": "StyleView",
            "_model_name": "ProgressStyleModel",
            "description_width": "initial",
            "_view_module": "@jupyter-widgets/base",
            "_model_module_version": "1.5.0",
            "_view_count": null,
            "_view_module_version": "1.2.0",
            "bar_color": null,
            "_model_module": "@jupyter-widgets/controls"
          },
          "model_module_version": "1.5.0"
        },
        "9f3165c6b66949719a142ce2dc15d074": {
          "model_module": "@jupyter-widgets/base",
          "model_name": "LayoutModel",
          "state": {
            "_view_name": "LayoutView",
            "grid_template_rows": null,
            "right": null,
            "justify_content": null,
            "_view_module": "@jupyter-widgets/base",
            "overflow": null,
            "_model_module_version": "1.2.0",
            "_view_count": null,
            "flex_flow": null,
            "width": null,
            "min_width": null,
            "border": null,
            "align_items": null,
            "bottom": null,
            "_model_module": "@jupyter-widgets/base",
            "top": null,
            "grid_column": null,
            "overflow_y": null,
            "overflow_x": null,
            "grid_auto_flow": null,
            "grid_area": null,
            "grid_template_columns": null,
            "flex": null,
            "_model_name": "LayoutModel",
            "justify_items": null,
            "grid_row": null,
            "max_height": null,
            "align_content": null,
            "visibility": null,
            "align_self": null,
            "height": null,
            "min_height": null,
            "padding": null,
            "grid_auto_rows": null,
            "grid_gap": null,
            "max_width": null,
            "order": null,
            "_view_module_version": "1.2.0",
            "grid_template_areas": null,
            "object_position": null,
            "object_fit": null,
            "grid_auto_columns": null,
            "margin": null,
            "display": null,
            "left": null
          },
          "model_module_version": "1.2.0"
        },
        "7c5c607b1dfb4aaf82234f5229c864de": {
          "model_module": "@jupyter-widgets/controls",
          "model_name": "DescriptionStyleModel",
          "state": {
            "_view_name": "StyleView",
            "_model_name": "DescriptionStyleModel",
            "description_width": "",
            "_view_module": "@jupyter-widgets/base",
            "_model_module_version": "1.5.0",
            "_view_count": null,
            "_view_module_version": "1.2.0",
            "_model_module": "@jupyter-widgets/controls"
          },
          "model_module_version": "1.5.0"
        },
        "188f380468fb4cc380f3501fbc34b9bd": {
          "model_module": "@jupyter-widgets/base",
          "model_name": "LayoutModel",
          "state": {
            "_view_name": "LayoutView",
            "grid_template_rows": null,
            "right": null,
            "justify_content": null,
            "_view_module": "@jupyter-widgets/base",
            "overflow": null,
            "_model_module_version": "1.2.0",
            "_view_count": null,
            "flex_flow": null,
            "width": null,
            "min_width": null,
            "border": null,
            "align_items": null,
            "bottom": null,
            "_model_module": "@jupyter-widgets/base",
            "top": null,
            "grid_column": null,
            "overflow_y": null,
            "overflow_x": null,
            "grid_auto_flow": null,
            "grid_area": null,
            "grid_template_columns": null,
            "flex": null,
            "_model_name": "LayoutModel",
            "justify_items": null,
            "grid_row": null,
            "max_height": null,
            "align_content": null,
            "visibility": null,
            "align_self": null,
            "height": null,
            "min_height": null,
            "padding": null,
            "grid_auto_rows": null,
            "grid_gap": null,
            "max_width": null,
            "order": null,
            "_view_module_version": "1.2.0",
            "grid_template_areas": null,
            "object_position": null,
            "object_fit": null,
            "grid_auto_columns": null,
            "margin": null,
            "display": null,
            "left": null
          },
          "model_module_version": "1.2.0"
        }
      }
    }
  },
  "cells": [
    {
      "cell_type": "markdown",
      "metadata": {
        "id": "srGP38Hqk9_7"
      },
      "source": [
        "#**Automate Emotion Detection For Paragraphs Using Deep Learning**"
      ]
    },
    {
      "cell_type": "markdown",
      "source": [
        "#**Importing the required Libraries**"
      ],
      "metadata": {
        "id": "-U4Eyn76vzFD"
      }
    },
    {
      "cell_type": "code",
      "metadata": {
        "scrolled": true,
        "id": "AMIYC7NUk9_9",
        "colab": {
          "base_uri": "https://localhost:8080/",
          "height": 67
        },
        "outputId": "2ada573b-8ab3-41c3-aa3b-a0b9a954db5d"
      },
      "source": [
        "# Importing Pandas for data manipulation\n",
        "import pandas as pd\n",
        "\n",
        "# Importing NumPy for numerical operations\n",
        "import numpy as np\n",
        "\n",
        "# Importing NLTK for natural language processing tasks\n",
        "import nltk\n",
        "\n",
        "# Importing NLTK's stopwords corpus\n",
        "from nltk.corpus import stopwords\n",
        "\n",
        "# Importing tqdm for progress bars in Jupyter notebooks\n",
        "from tqdm._tqdm_notebook import tqdm_notebook\n",
        "\n",
        "# Setting up tqdm to monitor progress in notebook environment\n",
        "tqdm_notebook.pandas()\n",
        "\n",
        "# Importing FastText from Gensim for word embeddings\n",
        "from gensim.models import FastText\n",
        "\n",
        "# Importing a custom contraction map for expanding contractions\n",
        "from contractions import contraction_map\n",
        "\n",
        "# Importing string module for string operations\n",
        "import string\n",
        "\n",
        "# Importing re for regular expressions\n",
        "import re\n",
        "\n",
        "# Importing WordNetLemmatizer from NLTK for word lemmatization\n",
        "from nltk.stem import WordNetLemmatizer\n",
        "\n"
      ],
      "execution_count": null,
      "outputs": [
        {
          "output_type": "stream",
          "text": [
            "/usr/local/lib/python3.6/dist-packages/ipykernel_launcher.py:7: TqdmDeprecationWarning: This function will be removed in tqdm==5.0.0\n",
            "Please use `tqdm.notebook.*` instead of `tqdm._tqdm_notebook.*`\n",
            "  import sys\n"
          ],
          "name": "stderr"
        }
      ]
    },
    {
      "cell_type": "markdown",
      "source": [
        "#**Setting up a Deep Learning Environment Using Keras**"
      ],
      "metadata": {
        "id": "PbDegOtxxc1Q"
      }
    },
    {
      "cell_type": "code",
      "metadata": {
        "id": "xRV9Nwdak-AE",
        "colab": {
          "base_uri": "https://localhost:8080/",
          "height": 34
        },
        "outputId": "97fcf59a-22db-4f74-b4c9-e6abda6dab7b"
      },
      "source": [
        "# Importing various layers from Keras for building neural networks\n",
        "from keras.layers import Dense, Embedding, Bidirectional, SpatialDropout1D, Input, TimeDistributed, Flatten, LSTM, GRU, Dropout\n",
        "\n",
        "# Importing Sequential and Model from Keras for defining neural network models\n",
        "from keras.models import Sequential, save_model, Model\n",
        "\n",
        "# Importing CountVectorizer from scikit-learn for converting text data into numerical feature vectors\n",
        "from sklearn.feature_extraction.text import CountVectorizer\n",
        "\n",
        "# Importing Tokenizer from Keras for converting text documents into sequences of tokens\n",
        "from keras.preprocessing.text import Tokenizer\n",
        "\n",
        "# Importing pad_sequences from Keras for padding sequences to a maximum length\n",
        "from keras.preprocessing.sequence import pad_sequences\n",
        "\n",
        "# Importing train_test_split from scikit-learn for splitting data into training and testing sets\n",
        "from sklearn.model_selection import train_test_split\n",
        "\n",
        "# Importing to_categorical from Keras utilities for converting class vectors to binary class matrices\n",
        "from keras.utils.np_utils import to_categorical\n",
        "\n",
        "# Importing EarlyStopping and ModelCheckpoint from Keras callbacks for model training control\n",
        "from keras.callbacks import EarlyStopping, ModelCheckpoint\n",
        "\n",
        "# Importing TensorFlow library\n",
        "import tensorflow as tf\n"
      ],
      "execution_count": null,
      "outputs": [
        {
          "output_type": "stream",
          "text": [
            "Using TensorFlow backend.\n"
          ],
          "name": "stderr"
        }
      ]
    },
    {
      "cell_type": "markdown",
      "metadata": {
        "id": "NUxv3a80k-AL"
      },
      "source": [
        "#**Data Cleaning**"
      ]
    },
    {
      "cell_type": "code",
      "metadata": {
        "scrolled": true,
        "id": "4BvdKnp2k-AM"
      },
      "source": [
        "# Loading the dataset\n",
        "data = pd.read_csv('/content/text_emotion (1).csv')"
      ],
      "execution_count": null,
      "outputs": []
    },
    {
      "cell_type": "code",
      "metadata": {
        "scrolled": false,
        "id": "N_H6gZfkk-AQ",
        "colab": {
          "base_uri": "https://localhost:8080/",
          "height": 195
        },
        "outputId": "386f32ed-5904-4fdd-cf7f-36969ea68ad5"
      },
      "source": [
        "# Having a look at our dataset\n",
        "data.head()"
      ],
      "execution_count": null,
      "outputs": [
        {
          "output_type": "execute_result",
          "data": {
            "text/html": [
              "<div>\n",
              "<style scoped>\n",
              "    .dataframe tbody tr th:only-of-type {\n",
              "        vertical-align: middle;\n",
              "    }\n",
              "\n",
              "    .dataframe tbody tr th {\n",
              "        vertical-align: top;\n",
              "    }\n",
              "\n",
              "    .dataframe thead th {\n",
              "        text-align: right;\n",
              "    }\n",
              "</style>\n",
              "<table border=\"1\" class=\"dataframe\">\n",
              "  <thead>\n",
              "    <tr style=\"text-align: right;\">\n",
              "      <th></th>\n",
              "      <th>tweet_id</th>\n",
              "      <th>sentiment</th>\n",
              "      <th>author</th>\n",
              "      <th>content</th>\n",
              "    </tr>\n",
              "  </thead>\n",
              "  <tbody>\n",
              "    <tr>\n",
              "      <th>0</th>\n",
              "      <td>1956967341</td>\n",
              "      <td>empty</td>\n",
              "      <td>xoshayzers</td>\n",
              "      <td>@tiffanylue i know  i was listenin to bad habi...</td>\n",
              "    </tr>\n",
              "    <tr>\n",
              "      <th>1</th>\n",
              "      <td>1956967666</td>\n",
              "      <td>sadness</td>\n",
              "      <td>wannamama</td>\n",
              "      <td>Layin n bed with a headache  ughhhh...waitin o...</td>\n",
              "    </tr>\n",
              "    <tr>\n",
              "      <th>2</th>\n",
              "      <td>1956967696</td>\n",
              "      <td>sadness</td>\n",
              "      <td>coolfunky</td>\n",
              "      <td>Funeral ceremony...gloomy friday...</td>\n",
              "    </tr>\n",
              "    <tr>\n",
              "      <th>3</th>\n",
              "      <td>1956967789</td>\n",
              "      <td>enthusiasm</td>\n",
              "      <td>czareaquino</td>\n",
              "      <td>wants to hang out with friends SOON!</td>\n",
              "    </tr>\n",
              "    <tr>\n",
              "      <th>4</th>\n",
              "      <td>1956968416</td>\n",
              "      <td>neutral</td>\n",
              "      <td>xkilljoyx</td>\n",
              "      <td>@dannycastillo We want to trade with someone w...</td>\n",
              "    </tr>\n",
              "  </tbody>\n",
              "</table>\n",
              "</div>"
            ],
            "text/plain": [
              "     tweet_id  ...                                            content\n",
              "0  1956967341  ...  @tiffanylue i know  i was listenin to bad habi...\n",
              "1  1956967666  ...  Layin n bed with a headache  ughhhh...waitin o...\n",
              "2  1956967696  ...                Funeral ceremony...gloomy friday...\n",
              "3  1956967789  ...               wants to hang out with friends SOON!\n",
              "4  1956968416  ...  @dannycastillo We want to trade with someone w...\n",
              "\n",
              "[5 rows x 4 columns]"
            ]
          },
          "metadata": {
            "tags": []
          },
          "execution_count": 10
        }
      ]
    },
    {
      "cell_type": "code",
      "metadata": {
        "scrolled": true,
        "id": "YzbzGk6Ak-AT",
        "colab": {
          "base_uri": "https://localhost:8080/",
          "height": 252
        },
        "outputId": "5b488fb4-8834-4640-d7e0-1f98c3a2e868"
      },
      "source": [
        "# Getting count of the emotions present in the dataset\n",
        "data.sentiment.value_counts()"
      ],
      "execution_count": null,
      "outputs": [
        {
          "output_type": "execute_result",
          "data": {
            "text/plain": [
              "neutral       8638\n",
              "worry         8459\n",
              "happiness     5209\n",
              "sadness       5165\n",
              "love          3842\n",
              "surprise      2187\n",
              "fun           1776\n",
              "relief        1526\n",
              "hate          1323\n",
              "empty          827\n",
              "enthusiasm     759\n",
              "boredom        179\n",
              "anger          110\n",
              "Name: sentiment, dtype: int64"
            ]
          },
          "metadata": {
            "tags": []
          },
          "execution_count": 11
        }
      ]
    },
    {
      "cell_type": "code",
      "metadata": {
        "scrolled": true,
        "id": "gf_0Fuijk-AX"
      },
      "source": [
        "# Creating a copy of the dataset\n",
        "df_temp = data.copy()"
      ],
      "execution_count": null,
      "outputs": []
    },
    {
      "cell_type": "code",
      "metadata": {
        "id": "6TOF6w1gk-Ab",
        "colab": {
          "base_uri": "https://localhost:8080/",
          "height": 101
        },
        "outputId": "8db90020-61ee-41e6-c248-14f9237d7f91"
      },
      "source": [
        "# Checking the data types present\n",
        "df_temp.dtypes"
      ],
      "execution_count": null,
      "outputs": [
        {
          "output_type": "execute_result",
          "data": {
            "text/plain": [
              "tweet_id      int64\n",
              "sentiment    object\n",
              "author       object\n",
              "content      object\n",
              "dtype: object"
            ]
          },
          "metadata": {
            "tags": []
          },
          "execution_count": 13
        }
      ]
    },
    {
      "cell_type": "code",
      "metadata": {
        "id": "casf6UMgk-Ae"
      },
      "source": [
        "# Dropping rows with other emotion labels\n",
        "df_temp = df_temp.drop(df_temp[df_temp.sentiment == 'boredom'].index)\n",
        "df_temp = df_temp.drop(df_temp[df_temp.sentiment == 'enthusiasm'].index)\n",
        "df_temp = df_temp.drop(df_temp[df_temp.sentiment == 'empty'].index)\n",
        "df_temp = df_temp.drop(df_temp[df_temp.sentiment == 'fun'].index)\n",
        "df_temp = df_temp.drop(df_temp[df_temp.sentiment == 'relief'].index)\n",
        "df_temp = df_temp.drop(df_temp[df_temp.sentiment == 'surprise'].index)\n",
        "df_temp = df_temp.drop(df_temp[df_temp.sentiment == 'love'].index)\n",
        "df_temp = df_temp.drop(df_temp[df_temp.sentiment == 'hate'].index)"
      ],
      "execution_count": null,
      "outputs": []
    },
    {
      "cell_type": "code",
      "metadata": {
        "scrolled": true,
        "id": "Q0E7JOt4k-Ag",
        "colab": {
          "base_uri": "https://localhost:8080/",
          "height": 118
        },
        "outputId": "8442d88f-0b5a-463d-d5fd-e7af135d4183"
      },
      "source": [
        "# Having a count of each sentiment as reduced to 5 emotions.\n",
        "df_temp.sentiment.value_counts()"
      ],
      "execution_count": null,
      "outputs": [
        {
          "output_type": "execute_result",
          "data": {
            "text/plain": [
              "neutral      8638\n",
              "worry        8459\n",
              "happiness    5209\n",
              "sadness      5165\n",
              "anger         110\n",
              "Name: sentiment, dtype: int64"
            ]
          },
          "metadata": {
            "tags": []
          },
          "execution_count": 15
        }
      ]
    },
    {
      "cell_type": "code",
      "metadata": {
        "scrolled": true,
        "id": "43mq351Yk-Ai",
        "colab": {
          "base_uri": "https://localhost:8080/",
          "height": 402
        },
        "outputId": "cec647fe-092d-452d-88db-dd5190edf564"
      },
      "source": [
        "# Lets have a look at our dataset\n",
        "df_temp"
      ],
      "execution_count": null,
      "outputs": [
        {
          "output_type": "execute_result",
          "data": {
            "text/html": [
              "<div>\n",
              "<style scoped>\n",
              "    .dataframe tbody tr th:only-of-type {\n",
              "        vertical-align: middle;\n",
              "    }\n",
              "\n",
              "    .dataframe tbody tr th {\n",
              "        vertical-align: top;\n",
              "    }\n",
              "\n",
              "    .dataframe thead th {\n",
              "        text-align: right;\n",
              "    }\n",
              "</style>\n",
              "<table border=\"1\" class=\"dataframe\">\n",
              "  <thead>\n",
              "    <tr style=\"text-align: right;\">\n",
              "      <th></th>\n",
              "      <th>tweet_id</th>\n",
              "      <th>sentiment</th>\n",
              "      <th>author</th>\n",
              "      <th>content</th>\n",
              "    </tr>\n",
              "  </thead>\n",
              "  <tbody>\n",
              "    <tr>\n",
              "      <th>1</th>\n",
              "      <td>1956967666</td>\n",
              "      <td>sadness</td>\n",
              "      <td>wannamama</td>\n",
              "      <td>Layin n bed with a headache  ughhhh...waitin o...</td>\n",
              "    </tr>\n",
              "    <tr>\n",
              "      <th>2</th>\n",
              "      <td>1956967696</td>\n",
              "      <td>sadness</td>\n",
              "      <td>coolfunky</td>\n",
              "      <td>Funeral ceremony...gloomy friday...</td>\n",
              "    </tr>\n",
              "    <tr>\n",
              "      <th>4</th>\n",
              "      <td>1956968416</td>\n",
              "      <td>neutral</td>\n",
              "      <td>xkilljoyx</td>\n",
              "      <td>@dannycastillo We want to trade with someone w...</td>\n",
              "    </tr>\n",
              "    <tr>\n",
              "      <th>5</th>\n",
              "      <td>1956968477</td>\n",
              "      <td>worry</td>\n",
              "      <td>xxxPEACHESxxx</td>\n",
              "      <td>Re-pinging @ghostridah14: why didn't you go to...</td>\n",
              "    </tr>\n",
              "    <tr>\n",
              "      <th>6</th>\n",
              "      <td>1956968487</td>\n",
              "      <td>sadness</td>\n",
              "      <td>ShansBee</td>\n",
              "      <td>I should be sleep, but im not! thinking about ...</td>\n",
              "    </tr>\n",
              "    <tr>\n",
              "      <th>...</th>\n",
              "      <td>...</td>\n",
              "      <td>...</td>\n",
              "      <td>...</td>\n",
              "      <td>...</td>\n",
              "    </tr>\n",
              "    <tr>\n",
              "      <th>39992</th>\n",
              "      <td>1753918881</td>\n",
              "      <td>neutral</td>\n",
              "      <td>_Alectrona_</td>\n",
              "      <td>@jasimmo Ooo showing of your French skills!! l...</td>\n",
              "    </tr>\n",
              "    <tr>\n",
              "      <th>39993</th>\n",
              "      <td>1753918892</td>\n",
              "      <td>neutral</td>\n",
              "      <td>bushidosan</td>\n",
              "      <td>@sendsome2me haha, yeah. Twitter has many uses...</td>\n",
              "    </tr>\n",
              "    <tr>\n",
              "      <th>39994</th>\n",
              "      <td>1753918900</td>\n",
              "      <td>happiness</td>\n",
              "      <td>courtside101</td>\n",
              "      <td>Succesfully following Tayla!!</td>\n",
              "    </tr>\n",
              "    <tr>\n",
              "      <th>39995</th>\n",
              "      <td>1753918954</td>\n",
              "      <td>neutral</td>\n",
              "      <td>showMe_Heaven</td>\n",
              "      <td>@JohnLloydTaylor</td>\n",
              "    </tr>\n",
              "    <tr>\n",
              "      <th>39998</th>\n",
              "      <td>1753919043</td>\n",
              "      <td>happiness</td>\n",
              "      <td>ipdaman1</td>\n",
              "      <td>@niariley WASSUP BEAUTIFUL!!! FOLLOW ME!!  PEE...</td>\n",
              "    </tr>\n",
              "  </tbody>\n",
              "</table>\n",
              "<p>27581 rows × 4 columns</p>\n",
              "</div>"
            ],
            "text/plain": [
              "         tweet_id  ...                                            content\n",
              "1      1956967666  ...  Layin n bed with a headache  ughhhh...waitin o...\n",
              "2      1956967696  ...                Funeral ceremony...gloomy friday...\n",
              "4      1956968416  ...  @dannycastillo We want to trade with someone w...\n",
              "5      1956968477  ...  Re-pinging @ghostridah14: why didn't you go to...\n",
              "6      1956968487  ...  I should be sleep, but im not! thinking about ...\n",
              "...           ...  ...                                                ...\n",
              "39992  1753918881  ...  @jasimmo Ooo showing of your French skills!! l...\n",
              "39993  1753918892  ...  @sendsome2me haha, yeah. Twitter has many uses...\n",
              "39994  1753918900  ...                      Succesfully following Tayla!!\n",
              "39995  1753918954  ...                                   @JohnLloydTaylor\n",
              "39998  1753919043  ...  @niariley WASSUP BEAUTIFUL!!! FOLLOW ME!!  PEE...\n",
              "\n",
              "[27581 rows x 4 columns]"
            ]
          },
          "metadata": {
            "tags": []
          },
          "execution_count": 16
        }
      ]
    },
    {
      "cell_type": "code",
      "metadata": {
        "scrolled": true,
        "id": "uGAe-PQXk-Ak",
        "colab": {
          "base_uri": "https://localhost:8080/",
          "height": 402
        },
        "outputId": "2e92c224-a8c5-4d98-b339-eb24d8618d3e"
      },
      "source": [
        "# Dropping the \"author\" column from the dataset\n",
        "df_temp = df_temp.drop('author',axis=1)\n",
        "df_temp"
      ],
      "execution_count": null,
      "outputs": [
        {
          "output_type": "execute_result",
          "data": {
            "text/html": [
              "<div>\n",
              "<style scoped>\n",
              "    .dataframe tbody tr th:only-of-type {\n",
              "        vertical-align: middle;\n",
              "    }\n",
              "\n",
              "    .dataframe tbody tr th {\n",
              "        vertical-align: top;\n",
              "    }\n",
              "\n",
              "    .dataframe thead th {\n",
              "        text-align: right;\n",
              "    }\n",
              "</style>\n",
              "<table border=\"1\" class=\"dataframe\">\n",
              "  <thead>\n",
              "    <tr style=\"text-align: right;\">\n",
              "      <th></th>\n",
              "      <th>tweet_id</th>\n",
              "      <th>sentiment</th>\n",
              "      <th>content</th>\n",
              "    </tr>\n",
              "  </thead>\n",
              "  <tbody>\n",
              "    <tr>\n",
              "      <th>1</th>\n",
              "      <td>1956967666</td>\n",
              "      <td>sadness</td>\n",
              "      <td>Layin n bed with a headache  ughhhh...waitin o...</td>\n",
              "    </tr>\n",
              "    <tr>\n",
              "      <th>2</th>\n",
              "      <td>1956967696</td>\n",
              "      <td>sadness</td>\n",
              "      <td>Funeral ceremony...gloomy friday...</td>\n",
              "    </tr>\n",
              "    <tr>\n",
              "      <th>4</th>\n",
              "      <td>1956968416</td>\n",
              "      <td>neutral</td>\n",
              "      <td>@dannycastillo We want to trade with someone w...</td>\n",
              "    </tr>\n",
              "    <tr>\n",
              "      <th>5</th>\n",
              "      <td>1956968477</td>\n",
              "      <td>worry</td>\n",
              "      <td>Re-pinging @ghostridah14: why didn't you go to...</td>\n",
              "    </tr>\n",
              "    <tr>\n",
              "      <th>6</th>\n",
              "      <td>1956968487</td>\n",
              "      <td>sadness</td>\n",
              "      <td>I should be sleep, but im not! thinking about ...</td>\n",
              "    </tr>\n",
              "    <tr>\n",
              "      <th>...</th>\n",
              "      <td>...</td>\n",
              "      <td>...</td>\n",
              "      <td>...</td>\n",
              "    </tr>\n",
              "    <tr>\n",
              "      <th>39992</th>\n",
              "      <td>1753918881</td>\n",
              "      <td>neutral</td>\n",
              "      <td>@jasimmo Ooo showing of your French skills!! l...</td>\n",
              "    </tr>\n",
              "    <tr>\n",
              "      <th>39993</th>\n",
              "      <td>1753918892</td>\n",
              "      <td>neutral</td>\n",
              "      <td>@sendsome2me haha, yeah. Twitter has many uses...</td>\n",
              "    </tr>\n",
              "    <tr>\n",
              "      <th>39994</th>\n",
              "      <td>1753918900</td>\n",
              "      <td>happiness</td>\n",
              "      <td>Succesfully following Tayla!!</td>\n",
              "    </tr>\n",
              "    <tr>\n",
              "      <th>39995</th>\n",
              "      <td>1753918954</td>\n",
              "      <td>neutral</td>\n",
              "      <td>@JohnLloydTaylor</td>\n",
              "    </tr>\n",
              "    <tr>\n",
              "      <th>39998</th>\n",
              "      <td>1753919043</td>\n",
              "      <td>happiness</td>\n",
              "      <td>@niariley WASSUP BEAUTIFUL!!! FOLLOW ME!!  PEE...</td>\n",
              "    </tr>\n",
              "  </tbody>\n",
              "</table>\n",
              "<p>27581 rows × 3 columns</p>\n",
              "</div>"
            ],
            "text/plain": [
              "         tweet_id  sentiment                                            content\n",
              "1      1956967666    sadness  Layin n bed with a headache  ughhhh...waitin o...\n",
              "2      1956967696    sadness                Funeral ceremony...gloomy friday...\n",
              "4      1956968416    neutral  @dannycastillo We want to trade with someone w...\n",
              "5      1956968477      worry  Re-pinging @ghostridah14: why didn't you go to...\n",
              "6      1956968487    sadness  I should be sleep, but im not! thinking about ...\n",
              "...           ...        ...                                                ...\n",
              "39992  1753918881    neutral  @jasimmo Ooo showing of your French skills!! l...\n",
              "39993  1753918892    neutral  @sendsome2me haha, yeah. Twitter has many uses...\n",
              "39994  1753918900  happiness                      Succesfully following Tayla!!\n",
              "39995  1753918954    neutral                                   @JohnLloydTaylor\n",
              "39998  1753919043  happiness  @niariley WASSUP BEAUTIFUL!!! FOLLOW ME!!  PEE...\n",
              "\n",
              "[27581 rows x 3 columns]"
            ]
          },
          "metadata": {
            "tags": []
          },
          "execution_count": 17
        }
      ]
    },
    {
      "cell_type": "code",
      "metadata": {
        "id": "XDeFRPmGk-Am"
      },
      "source": [
        "# Resetting the index\n",
        "df_temp.reset_index(drop=True,inplace=True)"
      ],
      "execution_count": null,
      "outputs": []
    },
    {
      "cell_type": "code",
      "metadata": {
        "scrolled": true,
        "id": "RR1HOuZ7k-Ao",
        "colab": {
          "base_uri": "https://localhost:8080/",
          "height": 402
        },
        "outputId": "4a4a5d40-971a-481f-9e2b-1efdd9336eb9"
      },
      "source": [
        "# having a look at our Data\n",
        "df_temp"
      ],
      "execution_count": null,
      "outputs": [
        {
          "output_type": "execute_result",
          "data": {
            "text/html": [
              "<div>\n",
              "<style scoped>\n",
              "    .dataframe tbody tr th:only-of-type {\n",
              "        vertical-align: middle;\n",
              "    }\n",
              "\n",
              "    .dataframe tbody tr th {\n",
              "        vertical-align: top;\n",
              "    }\n",
              "\n",
              "    .dataframe thead th {\n",
              "        text-align: right;\n",
              "    }\n",
              "</style>\n",
              "<table border=\"1\" class=\"dataframe\">\n",
              "  <thead>\n",
              "    <tr style=\"text-align: right;\">\n",
              "      <th></th>\n",
              "      <th>tweet_id</th>\n",
              "      <th>sentiment</th>\n",
              "      <th>content</th>\n",
              "    </tr>\n",
              "  </thead>\n",
              "  <tbody>\n",
              "    <tr>\n",
              "      <th>0</th>\n",
              "      <td>1956967666</td>\n",
              "      <td>sadness</td>\n",
              "      <td>Layin n bed with a headache  ughhhh...waitin o...</td>\n",
              "    </tr>\n",
              "    <tr>\n",
              "      <th>1</th>\n",
              "      <td>1956967696</td>\n",
              "      <td>sadness</td>\n",
              "      <td>Funeral ceremony...gloomy friday...</td>\n",
              "    </tr>\n",
              "    <tr>\n",
              "      <th>2</th>\n",
              "      <td>1956968416</td>\n",
              "      <td>neutral</td>\n",
              "      <td>@dannycastillo We want to trade with someone w...</td>\n",
              "    </tr>\n",
              "    <tr>\n",
              "      <th>3</th>\n",
              "      <td>1956968477</td>\n",
              "      <td>worry</td>\n",
              "      <td>Re-pinging @ghostridah14: why didn't you go to...</td>\n",
              "    </tr>\n",
              "    <tr>\n",
              "      <th>4</th>\n",
              "      <td>1956968487</td>\n",
              "      <td>sadness</td>\n",
              "      <td>I should be sleep, but im not! thinking about ...</td>\n",
              "    </tr>\n",
              "    <tr>\n",
              "      <th>...</th>\n",
              "      <td>...</td>\n",
              "      <td>...</td>\n",
              "      <td>...</td>\n",
              "    </tr>\n",
              "    <tr>\n",
              "      <th>27576</th>\n",
              "      <td>1753918881</td>\n",
              "      <td>neutral</td>\n",
              "      <td>@jasimmo Ooo showing of your French skills!! l...</td>\n",
              "    </tr>\n",
              "    <tr>\n",
              "      <th>27577</th>\n",
              "      <td>1753918892</td>\n",
              "      <td>neutral</td>\n",
              "      <td>@sendsome2me haha, yeah. Twitter has many uses...</td>\n",
              "    </tr>\n",
              "    <tr>\n",
              "      <th>27578</th>\n",
              "      <td>1753918900</td>\n",
              "      <td>happiness</td>\n",
              "      <td>Succesfully following Tayla!!</td>\n",
              "    </tr>\n",
              "    <tr>\n",
              "      <th>27579</th>\n",
              "      <td>1753918954</td>\n",
              "      <td>neutral</td>\n",
              "      <td>@JohnLloydTaylor</td>\n",
              "    </tr>\n",
              "    <tr>\n",
              "      <th>27580</th>\n",
              "      <td>1753919043</td>\n",
              "      <td>happiness</td>\n",
              "      <td>@niariley WASSUP BEAUTIFUL!!! FOLLOW ME!!  PEE...</td>\n",
              "    </tr>\n",
              "  </tbody>\n",
              "</table>\n",
              "<p>27581 rows × 3 columns</p>\n",
              "</div>"
            ],
            "text/plain": [
              "         tweet_id  sentiment                                            content\n",
              "0      1956967666    sadness  Layin n bed with a headache  ughhhh...waitin o...\n",
              "1      1956967696    sadness                Funeral ceremony...gloomy friday...\n",
              "2      1956968416    neutral  @dannycastillo We want to trade with someone w...\n",
              "3      1956968477      worry  Re-pinging @ghostridah14: why didn't you go to...\n",
              "4      1956968487    sadness  I should be sleep, but im not! thinking about ...\n",
              "...           ...        ...                                                ...\n",
              "27576  1753918881    neutral  @jasimmo Ooo showing of your French skills!! l...\n",
              "27577  1753918892    neutral  @sendsome2me haha, yeah. Twitter has many uses...\n",
              "27578  1753918900  happiness                      Succesfully following Tayla!!\n",
              "27579  1753918954    neutral                                   @JohnLloydTaylor\n",
              "27580  1753919043  happiness  @niariley WASSUP BEAUTIFUL!!! FOLLOW ME!!  PEE...\n",
              "\n",
              "[27581 rows x 3 columns]"
            ]
          },
          "metadata": {
            "tags": []
          },
          "execution_count": 19
        }
      ]
    },
    {
      "cell_type": "code",
      "metadata": {
        "id": "9zE84U1hk-Aq",
        "colab": {
          "base_uri": "https://localhost:8080/",
          "height": 34
        },
        "outputId": "f33492f0-62e9-4c45-efa2-17fea3bc2323"
      },
      "source": [
        "# Checking the number of columns and rows present in our dataset\n",
        "df_temp.shape"
      ],
      "execution_count": null,
      "outputs": [
        {
          "output_type": "execute_result",
          "data": {
            "text/plain": [
              "(27581, 3)"
            ]
          },
          "metadata": {
            "tags": []
          },
          "execution_count": 20
        }
      ]
    },
    {
      "cell_type": "code",
      "metadata": {
        "id": "FLr8xJA2k-At"
      },
      "source": [
        "# Dropping the \"tweet_id\" column\n",
        "df_temp.drop('tweet_id',axis=1,inplace=True)"
      ],
      "execution_count": null,
      "outputs": []
    },
    {
      "cell_type": "code",
      "metadata": {
        "id": "XH080VXkk-Av"
      },
      "source": [
        "# Keeping two columns in our dataset such as 'Sentiment' and 'text'\n",
        "df_temp.columns = ['sentiment','text']"
      ],
      "execution_count": null,
      "outputs": []
    },
    {
      "cell_type": "code",
      "metadata": {
        "id": "Op3DkWz6k-Aw",
        "colab": {
          "base_uri": "https://localhost:8080/",
          "height": 118
        },
        "outputId": "b44141dc-656f-4c8d-f25f-10479c3d79b3"
      },
      "source": [
        "# Having a count of each sentiment as reduced to 5 emotions.\n",
        "df_temp.sentiment.value_counts()"
      ],
      "execution_count": null,
      "outputs": [
        {
          "output_type": "execute_result",
          "data": {
            "text/plain": [
              "neutral      8638\n",
              "worry        8459\n",
              "happiness    5209\n",
              "sadness      5165\n",
              "anger         110\n",
              "Name: sentiment, dtype: int64"
            ]
          },
          "metadata": {
            "tags": []
          },
          "execution_count": 23
        }
      ]
    },
    {
      "cell_type": "markdown",
      "source": [
        "#**Handling Class Imbalance (Synthetic Oversampling)**"
      ],
      "metadata": {
        "id": "nswwtwWwz3jx"
      }
    },
    {
      "cell_type": "code",
      "metadata": {
        "id": "sKxMMSiYk-Az"
      },
      "source": [
        "# Calculating the counts of each sentiment class in the DataFrame\n",
        "class_count_0 , class_count_1, class_count_2, class_count_3, class_count_4 = df_temp.sentiment.value_counts()"
      ],
      "execution_count": null,
      "outputs": []
    },
    {
      "cell_type": "code",
      "metadata": {
        "id": "mFZyP6jWk-A0"
      },
      "source": [
        "# Sample rows from df_temp where sentiment is 'anger', matching class_count_3, with replacement\n",
        "class_count_anger_updated = df_temp[df_temp['sentiment'] == 'anger'].sample(class_count_3,replace=True)"
      ],
      "execution_count": null,
      "outputs": []
    },
    {
      "cell_type": "code",
      "metadata": {
        "id": "_Z-Z3yj7k-A3"
      },
      "source": [
        "# Reseting the index of the DataFrame 'class_count_anger_updated' and dropping the old index\n",
        "class_count_anger_updated.reset_index(drop=True,inplace=True)"
      ],
      "execution_count": null,
      "outputs": []
    },
    {
      "cell_type": "code",
      "metadata": {
        "id": "8DvDXocQk-A4"
      },
      "source": [
        "# Filter the DataFrame 'df_temp' to create a subset containing only rows where 'sentiment' is 'neutral'\n",
        "class_count_neutral = df_temp[df_temp['sentiment'] == 'neutral']\n",
        "\n",
        "# Filter the DataFrame 'df_temp' to create a subset containing only rows where 'sentiment' is 'worry'\n",
        "class_count_worry = df_temp[df_temp['sentiment'] == 'worry']\n",
        "\n",
        "# Filter the DataFrame 'df_temp' to create a subset containing only rows where 'sentiment' is 'happiness'\n",
        "class_count_happiness = df_temp[df_temp['sentiment'] == 'happiness']\n",
        "\n",
        "# Filter the DataFrame 'df_temp' to create a subset containing only rows where 'sentiment' is 'sadness'\n",
        "class_count_sadness= df_temp[df_temp['sentiment'] == 'sadness']"
      ],
      "execution_count": null,
      "outputs": []
    },
    {
      "cell_type": "code",
      "metadata": {
        "id": "Xsrx1xffk-A6"
      },
      "source": [
        "# Concatenate the DataFrames for different sentiment classes ('neutral', 'worry', 'happiness', 'sadness', and the updated 'anger' class)\n",
        "# into a single DataFrame 'df'. This combines the rows from all these classes along the rows (axis=0).\n",
        "df = pd.concat([class_count_neutral,class_count_worry,class_count_happiness,class_count_sadness,class_count_anger_updated],axis=0)"
      ],
      "execution_count": null,
      "outputs": []
    },
    {
      "cell_type": "code",
      "metadata": {
        "id": "_91BP_q0k-A8",
        "colab": {
          "base_uri": "https://localhost:8080/",
          "height": 118
        },
        "outputId": "fed15a87-d720-490b-ebb3-e00db3e57d50"
      },
      "source": [
        "# Getting the value counts of each emotion\n",
        "df.sentiment.value_counts()"
      ],
      "execution_count": null,
      "outputs": [
        {
          "output_type": "execute_result",
          "data": {
            "text/plain": [
              "neutral      8638\n",
              "worry        8459\n",
              "happiness    5209\n",
              "sadness      5165\n",
              "anger        5165\n",
              "Name: sentiment, dtype: int64"
            ]
          },
          "metadata": {
            "tags": []
          },
          "execution_count": 30
        }
      ]
    },
    {
      "cell_type": "code",
      "metadata": {
        "id": "StRqzgqJk-A_",
        "colab": {
          "base_uri": "https://localhost:8080/",
          "height": 402
        },
        "outputId": "d470fbff-f66f-4733-a946-a880a5d581ac"
      },
      "source": [
        "# Having a look at the dataset\n",
        "df"
      ],
      "execution_count": null,
      "outputs": [
        {
          "output_type": "execute_result",
          "data": {
            "text/html": [
              "<div>\n",
              "<style scoped>\n",
              "    .dataframe tbody tr th:only-of-type {\n",
              "        vertical-align: middle;\n",
              "    }\n",
              "\n",
              "    .dataframe tbody tr th {\n",
              "        vertical-align: top;\n",
              "    }\n",
              "\n",
              "    .dataframe thead th {\n",
              "        text-align: right;\n",
              "    }\n",
              "</style>\n",
              "<table border=\"1\" class=\"dataframe\">\n",
              "  <thead>\n",
              "    <tr style=\"text-align: right;\">\n",
              "      <th></th>\n",
              "      <th>sentiment</th>\n",
              "      <th>text</th>\n",
              "    </tr>\n",
              "  </thead>\n",
              "  <tbody>\n",
              "    <tr>\n",
              "      <th>2</th>\n",
              "      <td>neutral</td>\n",
              "      <td>@dannycastillo We want to trade with someone w...</td>\n",
              "    </tr>\n",
              "    <tr>\n",
              "      <th>8</th>\n",
              "      <td>neutral</td>\n",
              "      <td>cant fall asleep</td>\n",
              "    </tr>\n",
              "    <tr>\n",
              "      <th>17</th>\n",
              "      <td>neutral</td>\n",
              "      <td>No Topic Maps talks at the Balisage Markup Con...</td>\n",
              "    </tr>\n",
              "    <tr>\n",
              "      <th>25</th>\n",
              "      <td>neutral</td>\n",
              "      <td>@cynthia_123 i cant sleep</td>\n",
              "    </tr>\n",
              "    <tr>\n",
              "      <th>26</th>\n",
              "      <td>neutral</td>\n",
              "      <td>I missed the bl***y bus!!!!!!!!</td>\n",
              "    </tr>\n",
              "    <tr>\n",
              "      <th>...</th>\n",
              "      <td>...</td>\n",
              "      <td>...</td>\n",
              "    </tr>\n",
              "    <tr>\n",
              "      <th>5160</th>\n",
              "      <td>anger</td>\n",
              "      <td>i hav a chance to win $10, $100, $1000.  i was...</td>\n",
              "    </tr>\n",
              "    <tr>\n",
              "      <th>5161</th>\n",
              "      <td>anger</td>\n",
              "      <td>has a VERY arduous task to accomplish at work....</td>\n",
              "    </tr>\n",
              "    <tr>\n",
              "      <th>5162</th>\n",
              "      <td>anger</td>\n",
              "      <td>@porcelain_baby @Christomopher your not talkin...</td>\n",
              "    </tr>\n",
              "    <tr>\n",
              "      <th>5163</th>\n",
              "      <td>anger</td>\n",
              "      <td>never does  anything good school and rabbit it...</td>\n",
              "    </tr>\n",
              "    <tr>\n",
              "      <th>5164</th>\n",
              "      <td>anger</td>\n",
              "      <td>finally getting sleepy right when the sky brig...</td>\n",
              "    </tr>\n",
              "  </tbody>\n",
              "</table>\n",
              "<p>32636 rows × 2 columns</p>\n",
              "</div>"
            ],
            "text/plain": [
              "     sentiment                                               text\n",
              "2      neutral  @dannycastillo We want to trade with someone w...\n",
              "8      neutral                                   cant fall asleep\n",
              "17     neutral  No Topic Maps talks at the Balisage Markup Con...\n",
              "25     neutral                          @cynthia_123 i cant sleep\n",
              "26     neutral                    I missed the bl***y bus!!!!!!!!\n",
              "...        ...                                                ...\n",
              "5160     anger  i hav a chance to win $10, $100, $1000.  i was...\n",
              "5161     anger  has a VERY arduous task to accomplish at work....\n",
              "5162     anger  @porcelain_baby @Christomopher your not talkin...\n",
              "5163     anger  never does  anything good school and rabbit it...\n",
              "5164     anger  finally getting sleepy right when the sky brig...\n",
              "\n",
              "[32636 rows x 2 columns]"
            ]
          },
          "metadata": {
            "tags": []
          },
          "execution_count": 31
        }
      ]
    },
    {
      "cell_type": "code",
      "metadata": {
        "id": "Rkf7z-CXk-BE"
      },
      "source": [
        "# Resetting the index\n",
        "df.reset_index(drop=True,inplace=True)"
      ],
      "execution_count": null,
      "outputs": []
    },
    {
      "cell_type": "code",
      "metadata": {
        "id": "1lAcvWQZk-BG",
        "colab": {
          "base_uri": "https://localhost:8080/",
          "height": 402
        },
        "outputId": "a2d2c858-fb67-4b24-9d51-1ea63d5cbf33"
      },
      "source": [
        "# Having a look at the dataset\n",
        "df"
      ],
      "execution_count": null,
      "outputs": [
        {
          "output_type": "execute_result",
          "data": {
            "text/html": [
              "<div>\n",
              "<style scoped>\n",
              "    .dataframe tbody tr th:only-of-type {\n",
              "        vertical-align: middle;\n",
              "    }\n",
              "\n",
              "    .dataframe tbody tr th {\n",
              "        vertical-align: top;\n",
              "    }\n",
              "\n",
              "    .dataframe thead th {\n",
              "        text-align: right;\n",
              "    }\n",
              "</style>\n",
              "<table border=\"1\" class=\"dataframe\">\n",
              "  <thead>\n",
              "    <tr style=\"text-align: right;\">\n",
              "      <th></th>\n",
              "      <th>sentiment</th>\n",
              "      <th>text</th>\n",
              "    </tr>\n",
              "  </thead>\n",
              "  <tbody>\n",
              "    <tr>\n",
              "      <th>0</th>\n",
              "      <td>neutral</td>\n",
              "      <td>@dannycastillo We want to trade with someone w...</td>\n",
              "    </tr>\n",
              "    <tr>\n",
              "      <th>1</th>\n",
              "      <td>neutral</td>\n",
              "      <td>cant fall asleep</td>\n",
              "    </tr>\n",
              "    <tr>\n",
              "      <th>2</th>\n",
              "      <td>neutral</td>\n",
              "      <td>No Topic Maps talks at the Balisage Markup Con...</td>\n",
              "    </tr>\n",
              "    <tr>\n",
              "      <th>3</th>\n",
              "      <td>neutral</td>\n",
              "      <td>@cynthia_123 i cant sleep</td>\n",
              "    </tr>\n",
              "    <tr>\n",
              "      <th>4</th>\n",
              "      <td>neutral</td>\n",
              "      <td>I missed the bl***y bus!!!!!!!!</td>\n",
              "    </tr>\n",
              "    <tr>\n",
              "      <th>...</th>\n",
              "      <td>...</td>\n",
              "      <td>...</td>\n",
              "    </tr>\n",
              "    <tr>\n",
              "      <th>32631</th>\n",
              "      <td>anger</td>\n",
              "      <td>i hav a chance to win $10, $100, $1000.  i was...</td>\n",
              "    </tr>\n",
              "    <tr>\n",
              "      <th>32632</th>\n",
              "      <td>anger</td>\n",
              "      <td>has a VERY arduous task to accomplish at work....</td>\n",
              "    </tr>\n",
              "    <tr>\n",
              "      <th>32633</th>\n",
              "      <td>anger</td>\n",
              "      <td>@porcelain_baby @Christomopher your not talkin...</td>\n",
              "    </tr>\n",
              "    <tr>\n",
              "      <th>32634</th>\n",
              "      <td>anger</td>\n",
              "      <td>never does  anything good school and rabbit it...</td>\n",
              "    </tr>\n",
              "    <tr>\n",
              "      <th>32635</th>\n",
              "      <td>anger</td>\n",
              "      <td>finally getting sleepy right when the sky brig...</td>\n",
              "    </tr>\n",
              "  </tbody>\n",
              "</table>\n",
              "<p>32636 rows × 2 columns</p>\n",
              "</div>"
            ],
            "text/plain": [
              "      sentiment                                               text\n",
              "0       neutral  @dannycastillo We want to trade with someone w...\n",
              "1       neutral                                   cant fall asleep\n",
              "2       neutral  No Topic Maps talks at the Balisage Markup Con...\n",
              "3       neutral                          @cynthia_123 i cant sleep\n",
              "4       neutral                    I missed the bl***y bus!!!!!!!!\n",
              "...         ...                                                ...\n",
              "32631     anger  i hav a chance to win $10, $100, $1000.  i was...\n",
              "32632     anger  has a VERY arduous task to accomplish at work....\n",
              "32633     anger  @porcelain_baby @Christomopher your not talkin...\n",
              "32634     anger  never does  anything good school and rabbit it...\n",
              "32635     anger  finally getting sleepy right when the sky brig...\n",
              "\n",
              "[32636 rows x 2 columns]"
            ]
          },
          "metadata": {
            "tags": []
          },
          "execution_count": 33
        }
      ]
    },
    {
      "cell_type": "markdown",
      "metadata": {
        "id": "Vf3UnYkuk-BI"
      },
      "source": [
        "#**Data Pre-Processing**"
      ]
    },
    {
      "cell_type": "markdown",
      "metadata": {
        "id": "QSP8kUwgk-BI"
      },
      "source": [
        "##**Stopword Exclusion**"
      ]
    },
    {
      "cell_type": "code",
      "metadata": {
        "id": "7kb4FEcTk-BK"
      },
      "source": [
        "#Using Sentiment lexicons to be excluded from stopwords\n",
        "df_pos = pd.read_csv('./lexicons/positive.csv')\n",
        "df_neg = pd.read_csv('./lexicons/negative.csv')"
      ],
      "execution_count": null,
      "outputs": []
    },
    {
      "cell_type": "markdown",
      "metadata": {
        "id": "gCmWsvFpk-BO"
      },
      "source": [
        "#**Functions Required For Text Processing**"
      ]
    },
    {
      "cell_type": "markdown",
      "source": [
        "##**Function to format the text**"
      ],
      "metadata": {
        "id": "OobJVjRX4BPA"
      }
    },
    {
      "cell_type": "code",
      "metadata": {
        "id": "BAAtFH6tk-BP"
      },
      "source": [
        "# Function to Expand the text\n",
        "def expand_text(text):\n",
        "  # Convert the text to lowercase\n",
        "  text = text.lower()\n",
        "\n",
        "  # Replace backticks with single quotes\n",
        "  text = text.replace(\"`\", \"'\")\n",
        "\n",
        "  # Expand contractions using a predefined contraction map\n",
        "  contraction_dict = contraction_map\n",
        "  contraction_keys = list(contraction_dict.keys())\n",
        "\n",
        "  # Iterate through each word in the text\n",
        "  for word in text.split():\n",
        "\n",
        "    # If the word is a contraction, replace it with the expanded form\n",
        "    if word in contraction_keys:\n",
        "\n",
        "      text = text.replace(word, contraction_dict[word])\n",
        "    else:\n",
        "      continue\n",
        "\n",
        "  # Return the expanded text\n",
        "  return text"
      ],
      "execution_count": null,
      "outputs": []
    },
    {
      "cell_type": "markdown",
      "source": [
        "##**Function for text cleaning**"
      ],
      "metadata": {
        "id": "M0VhJDoY66x0"
      }
    },
    {
      "cell_type": "code",
      "metadata": {
        "id": "Fq-sUOUVk-BQ"
      },
      "source": [
        "# Function for text cleaning\n",
        "def clean_text(text):\n",
        "\n",
        "    # Remove punctuation using translation with None to remove all punctuation\n",
        "    text = text.translate(string.punctuation)\n",
        "\n",
        "    # Convert text to lowercase and split into words\n",
        "    text = text.lower().split()\n",
        "\n",
        "    # Assuming df_pos and df_neg are DataFrames or objects with 'words' attribute\n",
        "    df_pos_words = list(df_pos.words)\n",
        "    df_neg_words = list(df_neg.words)\n",
        "\n",
        "    # Create lists of positive and negative words with spaces removed\n",
        "    positive = []\n",
        "    for i in range(0,len(df_pos_words)):\n",
        "        positive.append(df_pos_words[i].lower().replace(\" \",\"\"))\n",
        "\n",
        "    negative = []\n",
        "    for i in range(0,len(df_neg_words)):\n",
        "        negative.append(df_neg_words[i].lower().replace(\" \",\"\"))\n",
        "\n",
        "    # Convert positive and negative lists to sets for efficient membership checking\n",
        "    pos_set = set(positive)\n",
        "    neg_set = set(negative)\n",
        "\n",
        "    # Define keywords set including standard stopwords and additional keywords\n",
        "    keywords = set([\"above\",\"and\",\"below\",\"not\"])\n",
        "    keywords.update(pos_set)\n",
        "    keywords.update(neg_set)\n",
        "\n",
        "    # Retrieve NLTK stopwords and remove keywords to create stopword set\n",
        "    stopwords_set = set(stopwords.words('english'))\n",
        "    stops = stopwords_set - keywords\n",
        "\n",
        "    # Remove stopwords from text\n",
        "    text = [w for w in text if not w in stops]\n",
        "    text = \" \".join(text)\n",
        "\n",
        "    # Perform additional text cleaning using regular expressions\n",
        "    text = re.sub(r\"[^A-Za-z0-9^,!./\\'+-=]\",\" \",text)\n",
        "    text = re.sub(r\"what's\",\"what is\",text)\n",
        "    text = re.sub(r\"\\'s\",\" \",text)\n",
        "    text = re.sub(r\"\\'ve\",\" have \",text)\n",
        "    text = re.sub(r\"n't\",\" not \",text)\n",
        "    text = re.sub(r\"i'm\",\" i am \",text)\n",
        "    text = re.sub(r\"\\'re\",\" are \",text)\n",
        "    text = re.sub(r\"\\'d\", \" would \",text)\n",
        "    text = re.sub(r\"\\'ll\", \" will \",text)\n",
        "    text = re.sub(r\",\",\" \",text)\n",
        "    text = re.sub(r\"\\.\",\" \",text)\n",
        "    text = re.sub(r\"!\",\" ! \",text)\n",
        "    text = re.sub(r\"\\/\",\" \",text)\n",
        "    text = re.sub(r\"\\^\",\" ^ \",text)\n",
        "    text = re.sub(r\"\\+\",\" + \",text)\n",
        "    text = re.sub(r\"\\-\",\" - \",text)\n",
        "    text = re.sub(r\"\\=\",\" = \",text)\n",
        "    text = re.sub(r\"'\",\" \",text)\n",
        "    text = re.sub(r\"(\\d+)(k)\",r\"\\g<1>000\",text)\n",
        "    text = re.sub(r\":\", \" : \",text)\n",
        "    text = re.sub(r\" e g \",\" eg \",text)\n",
        "    text = re.sub(r\"b g \",\" bg \",text)\n",
        "    text = re.sub(r\" u s \",\" american \",text)\n",
        "    text = re.sub(r\"\\0s\",\"0\",text)\n",
        "    text = re.sub(r\"e - mail\",\"email\",text)\n",
        "    text = re.sub(r\"\\s{2,}\",\" \",text)\n",
        "\n",
        "    # Split text into words again\n",
        "    text = text.split()\n",
        "\n",
        "    # Initialize WordNetLemmatizer for lemmatization\n",
        "    lemmatizer = WordNetLemmatizer()\n",
        "\n",
        "    # Lemmatize words\n",
        "    lemmatized_words = [lemmatizer.lemmatize(word) for word in text]\n",
        "\n",
        "    # Join lemmatized words into cleaned text\n",
        "    text = \" \".join(lemmatized_words)\n",
        "\n",
        "    return text"
      ],
      "execution_count": null,
      "outputs": []
    },
    {
      "cell_type": "code",
      "metadata": {
        "id": "Nlfw2Dq0k-BS",
        "colab": {
          "base_uri": "https://localhost:8080/",
          "height": 402
        },
        "outputId": "fe766013-ec47-4687-ecbd-98ccbf2c7eee"
      },
      "source": [
        "# Let's have a look at our data again\n",
        "df"
      ],
      "execution_count": null,
      "outputs": [
        {
          "output_type": "execute_result",
          "data": {
            "text/html": [
              "<div>\n",
              "<style scoped>\n",
              "    .dataframe tbody tr th:only-of-type {\n",
              "        vertical-align: middle;\n",
              "    }\n",
              "\n",
              "    .dataframe tbody tr th {\n",
              "        vertical-align: top;\n",
              "    }\n",
              "\n",
              "    .dataframe thead th {\n",
              "        text-align: right;\n",
              "    }\n",
              "</style>\n",
              "<table border=\"1\" class=\"dataframe\">\n",
              "  <thead>\n",
              "    <tr style=\"text-align: right;\">\n",
              "      <th></th>\n",
              "      <th>sentiment</th>\n",
              "      <th>text</th>\n",
              "    </tr>\n",
              "  </thead>\n",
              "  <tbody>\n",
              "    <tr>\n",
              "      <th>0</th>\n",
              "      <td>neutral</td>\n",
              "      <td>@dannycastillo We want to trade with someone w...</td>\n",
              "    </tr>\n",
              "    <tr>\n",
              "      <th>1</th>\n",
              "      <td>neutral</td>\n",
              "      <td>cant fall asleep</td>\n",
              "    </tr>\n",
              "    <tr>\n",
              "      <th>2</th>\n",
              "      <td>neutral</td>\n",
              "      <td>No Topic Maps talks at the Balisage Markup Con...</td>\n",
              "    </tr>\n",
              "    <tr>\n",
              "      <th>3</th>\n",
              "      <td>neutral</td>\n",
              "      <td>@cynthia_123 i cant sleep</td>\n",
              "    </tr>\n",
              "    <tr>\n",
              "      <th>4</th>\n",
              "      <td>neutral</td>\n",
              "      <td>I missed the bl***y bus!!!!!!!!</td>\n",
              "    </tr>\n",
              "    <tr>\n",
              "      <th>...</th>\n",
              "      <td>...</td>\n",
              "      <td>...</td>\n",
              "    </tr>\n",
              "    <tr>\n",
              "      <th>32631</th>\n",
              "      <td>anger</td>\n",
              "      <td>i hav a chance to win $10, $100, $1000.  i was...</td>\n",
              "    </tr>\n",
              "    <tr>\n",
              "      <th>32632</th>\n",
              "      <td>anger</td>\n",
              "      <td>has a VERY arduous task to accomplish at work....</td>\n",
              "    </tr>\n",
              "    <tr>\n",
              "      <th>32633</th>\n",
              "      <td>anger</td>\n",
              "      <td>@porcelain_baby @Christomopher your not talkin...</td>\n",
              "    </tr>\n",
              "    <tr>\n",
              "      <th>32634</th>\n",
              "      <td>anger</td>\n",
              "      <td>never does  anything good school and rabbit it...</td>\n",
              "    </tr>\n",
              "    <tr>\n",
              "      <th>32635</th>\n",
              "      <td>anger</td>\n",
              "      <td>finally getting sleepy right when the sky brig...</td>\n",
              "    </tr>\n",
              "  </tbody>\n",
              "</table>\n",
              "<p>32636 rows × 2 columns</p>\n",
              "</div>"
            ],
            "text/plain": [
              "      sentiment                                               text\n",
              "0       neutral  @dannycastillo We want to trade with someone w...\n",
              "1       neutral                                   cant fall asleep\n",
              "2       neutral  No Topic Maps talks at the Balisage Markup Con...\n",
              "3       neutral                          @cynthia_123 i cant sleep\n",
              "4       neutral                    I missed the bl***y bus!!!!!!!!\n",
              "...         ...                                                ...\n",
              "32631     anger  i hav a chance to win $10, $100, $1000.  i was...\n",
              "32632     anger  has a VERY arduous task to accomplish at work....\n",
              "32633     anger  @porcelain_baby @Christomopher your not talkin...\n",
              "32634     anger  never does  anything good school and rabbit it...\n",
              "32635     anger  finally getting sleepy right when the sky brig...\n",
              "\n",
              "[32636 rows x 2 columns]"
            ]
          },
          "metadata": {
            "tags": []
          },
          "execution_count": 38
        }
      ]
    },
    {
      "cell_type": "code",
      "metadata": {
        "id": "Ck8TviLvk-BU",
        "colab": {
          "base_uri": "https://localhost:8080/",
          "height": 66,
          "referenced_widgets": [
            "7c1923aec9a2465eb82e1dbe7ed3ab4b",
            "dcfa6984a01a4e4bb33fcd688bae748d",
            "5b4016a269be429eb233026bcf33e04e",
            "ec0f5e7ce6714e8f85cd73d2cb5c93c9",
            "ee5f940d8c0444c4bdf58cc5d1d02f31",
            "ce74a503800c4e86bac2680350c17106",
            "c615ba5e99b949ab95b0d85268779a16",
            "f4a97fa3e1f0475f92de20a0d7cdbe22"
          ]
        },
        "outputId": "f70e6599-d31f-4732-9733-62ae69f0c5d0"
      },
      "source": [
        "# Apply the expand_text function to each element in the 'text' column of DataFrame 'df'\n",
        "df['text'] = df['text'].progress_apply(lambda x : expand_text(x))"
      ],
      "execution_count": null,
      "outputs": [
        {
          "output_type": "display_data",
          "data": {
            "application/vnd.jupyter.widget-view+json": {
              "model_id": "7c1923aec9a2465eb82e1dbe7ed3ab4b",
              "version_minor": 0,
              "version_major": 2
            },
            "text/plain": [
              "HBox(children=(FloatProgress(value=0.0, max=32636.0), HTML(value='')))"
            ]
          },
          "metadata": {
            "tags": []
          }
        },
        {
          "output_type": "stream",
          "text": [
            "\n"
          ],
          "name": "stdout"
        }
      ]
    },
    {
      "cell_type": "code",
      "metadata": {
        "id": "Hqa0jprnql59",
        "colab": {
          "base_uri": "https://localhost:8080/",
          "height": 101
        },
        "outputId": "eb5e5916-ffe0-4ba2-e1f9-93857e9d1cb7"
      },
      "source": [
        "# Downloading stopwords and wordnet\n",
        "nltk.download('wordnet')\n",
        "nltk.download('stopwords')"
      ],
      "execution_count": null,
      "outputs": [
        {
          "output_type": "stream",
          "text": [
            "[nltk_data] Downloading package wordnet to /root/nltk_data...\n",
            "[nltk_data]   Unzipping corpora/wordnet.zip.\n",
            "[nltk_data] Downloading package stopwords to /root/nltk_data...\n",
            "[nltk_data]   Unzipping corpora/stopwords.zip.\n"
          ],
          "name": "stdout"
        },
        {
          "output_type": "execute_result",
          "data": {
            "text/plain": [
              "True"
            ]
          },
          "metadata": {
            "tags": []
          },
          "execution_count": 40
        }
      ]
    },
    {
      "cell_type": "code",
      "metadata": {
        "scrolled": true,
        "id": "MbWQg1bSk-BW",
        "colab": {
          "base_uri": "https://localhost:8080/",
          "height": 66,
          "referenced_widgets": [
            "418d06d5fc464566baafb9df83a580cc",
            "0bdd764ad32e4490b460e2384c1bc7c7",
            "4ff40f24dd224a2bbe0a4d7a33d1b321",
            "6b9a0ff51f444881896d6b7e6f9fd038",
            "52f10aa98d6d46389ec564c5b0fa20f6",
            "9f3165c6b66949719a142ce2dc15d074",
            "7c5c607b1dfb4aaf82234f5229c864de",
            "188f380468fb4cc380f3501fbc34b9bd"
          ]
        },
        "outputId": "c6f9020d-7951-4588-d596-77cfbbdac9f6"
      },
      "source": [
        "# Apply the clean_text function to each element in the 'text' column of DataFrame 'df'\n",
        "df['text'] = df['text'].progress_apply(lambda x: clean_text(x))"
      ],
      "execution_count": null,
      "outputs": [
        {
          "output_type": "display_data",
          "data": {
            "application/vnd.jupyter.widget-view+json": {
              "model_id": "418d06d5fc464566baafb9df83a580cc",
              "version_minor": 0,
              "version_major": 2
            },
            "text/plain": [
              "HBox(children=(FloatProgress(value=0.0, max=32636.0), HTML(value='')))"
            ]
          },
          "metadata": {
            "tags": []
          }
        },
        {
          "output_type": "stream",
          "text": [
            "\n"
          ],
          "name": "stdout"
        }
      ]
    },
    {
      "cell_type": "code",
      "metadata": {
        "id": "efDAXubnk-BX",
        "colab": {
          "base_uri": "https://localhost:8080/",
          "height": 402
        },
        "outputId": "c34cb77f-a888-42bd-d2b4-1c90ee3c9674"
      },
      "source": [
        "# Let's have a look at our data again\n",
        "df"
      ],
      "execution_count": null,
      "outputs": [
        {
          "output_type": "execute_result",
          "data": {
            "text/html": [
              "<div>\n",
              "<style scoped>\n",
              "    .dataframe tbody tr th:only-of-type {\n",
              "        vertical-align: middle;\n",
              "    }\n",
              "\n",
              "    .dataframe tbody tr th {\n",
              "        vertical-align: top;\n",
              "    }\n",
              "\n",
              "    .dataframe thead th {\n",
              "        text-align: right;\n",
              "    }\n",
              "</style>\n",
              "<table border=\"1\" class=\"dataframe\">\n",
              "  <thead>\n",
              "    <tr style=\"text-align: right;\">\n",
              "      <th></th>\n",
              "      <th>sentiment</th>\n",
              "      <th>text</th>\n",
              "    </tr>\n",
              "  </thead>\n",
              "  <tbody>\n",
              "    <tr>\n",
              "      <th>0</th>\n",
              "      <td>neutral</td>\n",
              "      <td>dannycastillo want trade someone houston ticke...</td>\n",
              "    </tr>\n",
              "    <tr>\n",
              "      <th>1</th>\n",
              "      <td>neutral</td>\n",
              "      <td>cant fall asleep</td>\n",
              "    </tr>\n",
              "    <tr>\n",
              "      <th>2</th>\n",
              "      <td>neutral</td>\n",
              "      <td>topic map talk balisage markup conference 2009...</td>\n",
              "    </tr>\n",
              "    <tr>\n",
              "      <th>3</th>\n",
              "      <td>neutral</td>\n",
              "      <td>cynthia 123 cant sleep</td>\n",
              "    </tr>\n",
              "    <tr>\n",
              "      <th>4</th>\n",
              "      <td>neutral</td>\n",
              "      <td>missed bl y bus ! ! ! ! ! ! ! !</td>\n",
              "    </tr>\n",
              "    <tr>\n",
              "      <th>...</th>\n",
              "      <td>...</td>\n",
              "      <td>...</td>\n",
              "    </tr>\n",
              "    <tr>\n",
              "      <th>32631</th>\n",
              "      <td>anger</td>\n",
              "      <td>hav chance win 10 100 1000 given free plant ha...</td>\n",
              "    </tr>\n",
              "    <tr>\n",
              "      <th>32632</th>\n",
              "      <td>anger</td>\n",
              "      <td>arduous task accomplish work stuff already don...</td>\n",
              "    </tr>\n",
              "    <tr>\n",
              "      <th>32633</th>\n",
              "      <td>anger</td>\n",
              "      <td>porcelain baby christomopher not talking obses...</td>\n",
              "    </tr>\n",
              "    <tr>\n",
              "      <th>32634</th>\n",
              "      <td>anger</td>\n",
              "      <td>never anything good school and rabbit life cyc...</td>\n",
              "    </tr>\n",
              "    <tr>\n",
              "      <th>32635</th>\n",
              "      <td>anger</td>\n",
              "      <td>finally getting sleepy right sky brightens fig...</td>\n",
              "    </tr>\n",
              "  </tbody>\n",
              "</table>\n",
              "<p>32636 rows × 2 columns</p>\n",
              "</div>"
            ],
            "text/plain": [
              "      sentiment                                               text\n",
              "0       neutral  dannycastillo want trade someone houston ticke...\n",
              "1       neutral                                   cant fall asleep\n",
              "2       neutral  topic map talk balisage markup conference 2009...\n",
              "3       neutral                             cynthia 123 cant sleep\n",
              "4       neutral                    missed bl y bus ! ! ! ! ! ! ! !\n",
              "...         ...                                                ...\n",
              "32631     anger  hav chance win 10 100 1000 given free plant ha...\n",
              "32632     anger  arduous task accomplish work stuff already don...\n",
              "32633     anger  porcelain baby christomopher not talking obses...\n",
              "32634     anger  never anything good school and rabbit life cyc...\n",
              "32635     anger  finally getting sleepy right sky brightens fig...\n",
              "\n",
              "[32636 rows x 2 columns]"
            ]
          },
          "metadata": {
            "tags": []
          },
          "execution_count": 42
        }
      ]
    },
    {
      "cell_type": "code",
      "metadata": {
        "id": "dB6Cw4atk-BZ"
      },
      "source": [
        "# Shuffle the dataframe rows randomly\n",
        "df = df.sample(frac=1)"
      ],
      "execution_count": null,
      "outputs": []
    },
    {
      "cell_type": "code",
      "metadata": {
        "id": "4B62LJj-ochL"
      },
      "source": [
        "# Reset the index of the dataframe and drop the old index\n",
        "df.reset_index(drop=True,inplace=True)"
      ],
      "execution_count": null,
      "outputs": []
    },
    {
      "cell_type": "code",
      "metadata": {
        "id": "rtPGplnH49Vd",
        "colab": {
          "base_uri": "https://localhost:8080/",
          "height": 402
        },
        "outputId": "95cc6860-b3c6-4e42-b791-f6cb224b1267"
      },
      "source": [
        "# Let's have a look at our data again\n",
        "df"
      ],
      "execution_count": null,
      "outputs": [
        {
          "output_type": "execute_result",
          "data": {
            "text/html": [
              "<div>\n",
              "<style scoped>\n",
              "    .dataframe tbody tr th:only-of-type {\n",
              "        vertical-align: middle;\n",
              "    }\n",
              "\n",
              "    .dataframe tbody tr th {\n",
              "        vertical-align: top;\n",
              "    }\n",
              "\n",
              "    .dataframe thead th {\n",
              "        text-align: right;\n",
              "    }\n",
              "</style>\n",
              "<table border=\"1\" class=\"dataframe\">\n",
              "  <thead>\n",
              "    <tr style=\"text-align: right;\">\n",
              "      <th></th>\n",
              "      <th>sentiment</th>\n",
              "      <th>text</th>\n",
              "    </tr>\n",
              "  </thead>\n",
              "  <tbody>\n",
              "    <tr>\n",
              "      <th>0</th>\n",
              "      <td>sadness</td>\n",
              "      <td>look like another night office lol</td>\n",
              "    </tr>\n",
              "    <tr>\n",
              "      <th>1</th>\n",
              "      <td>worry</td>\n",
              "      <td>redi med getting checked strep throat</td>\n",
              "    </tr>\n",
              "    <tr>\n",
              "      <th>2</th>\n",
              "      <td>neutral</td>\n",
              "      <td>cheverlyhillz im hella pushin it how tha gradu...</td>\n",
              "    </tr>\n",
              "    <tr>\n",
              "      <th>3</th>\n",
              "      <td>sadness</td>\n",
              "      <td>mitchelmusso im sad cant go make sad</td>\n",
              "    </tr>\n",
              "    <tr>\n",
              "      <th>4</th>\n",
              "      <td>worry</td>\n",
              "      <td>need mommy http : plurk com p x116r</td>\n",
              "    </tr>\n",
              "    <tr>\n",
              "      <th>...</th>\n",
              "      <td>...</td>\n",
              "      <td>...</td>\n",
              "    </tr>\n",
              "    <tr>\n",
              "      <th>32631</th>\n",
              "      <td>neutral</td>\n",
              "      <td>mattjay hey ! wa round 1 : round 2 next week</td>\n",
              "    </tr>\n",
              "    <tr>\n",
              "      <th>32632</th>\n",
              "      <td>neutral</td>\n",
              "      <td>nobody early</td>\n",
              "    </tr>\n",
              "    <tr>\n",
              "      <th>32633</th>\n",
              "      <td>anger</td>\n",
              "      <td>greenwichlad oh let clarify know lot nice peop...</td>\n",
              "    </tr>\n",
              "    <tr>\n",
              "      <th>32634</th>\n",
              "      <td>worry</td>\n",
              "      <td>really bad head ache gonna go bed might back m...</td>\n",
              "    </tr>\n",
              "    <tr>\n",
              "      <th>32635</th>\n",
              "      <td>worry</td>\n",
              "      <td>online portfolio great esp job trying look</td>\n",
              "    </tr>\n",
              "  </tbody>\n",
              "</table>\n",
              "<p>32636 rows × 2 columns</p>\n",
              "</div>"
            ],
            "text/plain": [
              "      sentiment                                               text\n",
              "0       sadness                 look like another night office lol\n",
              "1         worry              redi med getting checked strep throat\n",
              "2       neutral  cheverlyhillz im hella pushin it how tha gradu...\n",
              "3       sadness               mitchelmusso im sad cant go make sad\n",
              "4         worry                need mommy http : plurk com p x116r\n",
              "...         ...                                                ...\n",
              "32631   neutral       mattjay hey ! wa round 1 : round 2 next week\n",
              "32632   neutral                                       nobody early\n",
              "32633     anger  greenwichlad oh let clarify know lot nice peop...\n",
              "32634     worry  really bad head ache gonna go bed might back m...\n",
              "32635     worry         online portfolio great esp job trying look\n",
              "\n",
              "[32636 rows x 2 columns]"
            ]
          },
          "metadata": {
            "tags": []
          },
          "execution_count": 45
        }
      ]
    },
    {
      "cell_type": "markdown",
      "metadata": {
        "id": "Xz3I0qpxk-Bb"
      },
      "source": [
        "#**Word Tokenizing**"
      ]
    },
    {
      "cell_type": "code",
      "metadata": {
        "id": "lhY3Xayjk-Bc",
        "colab": {
          "base_uri": "https://localhost:8080/",
          "height": 34
        },
        "outputId": "57e2cc8a-139a-4f46-e508-03ca9034c547"
      },
      "source": [
        "# Initialize the tokenizer\n",
        "tokenizer = Tokenizer()\n",
        "\n",
        "# Fit the tokenizer on the text data to build the vocabulary\n",
        "tokenizer.fit_on_texts(df['text'])\n",
        "\n",
        "# Get the size of the vocabulary\n",
        "vocab_size = len(tokenizer.word_index) + 1\n",
        "\n",
        "# Print the vocabulary size\n",
        "print(vocab_size)"
      ],
      "execution_count": null,
      "outputs": [
        {
          "output_type": "stream",
          "text": [
            "34512\n"
          ],
          "name": "stdout"
        }
      ]
    },
    {
      "cell_type": "code",
      "metadata": {
        "id": "uazG6VcXk-Bd"
      },
      "source": [
        "# Convert text data to sequences of integers using the tokenizer\n",
        "sequences = tokenizer.texts_to_sequences(df['text'])\n",
        "\n",
        "# Pad sequences to ensure all have the same length (maxlen=50)\n",
        "data = pad_sequences(sequences, maxlen=50)\n"
      ],
      "execution_count": null,
      "outputs": []
    },
    {
      "cell_type": "markdown",
      "metadata": {
        "id": "mZuRhCl2k-Bg"
      },
      "source": [
        "#**Use word embeddings (Fasttext)**"
      ]
    },
    {
      "cell_type": "code",
      "metadata": {
        "id": "ya7fC2uSk-Bg"
      },
      "source": [
        "# Initialize an empty dictionary to hold the word embeddings\n",
        "embeddings_index = {}\n",
        "\n",
        "# Open the pre-trained word embeddings file\n",
        "f = open('./embeddings/wiki-news-300d-1M-subword.vec', encoding='utf-8')\n",
        "\n",
        "# Iterate through each line in the embeddings file\n",
        "for line in f:\n",
        "    # Split the line into word and its vector representation\n",
        "    values = line.split()\n",
        "    word = values[0]\n",
        "    coefs = np.asarray(values[1:], dtype=\"float32\")\n",
        "\n",
        "    # Add the word and its corresponding vector to the embeddings dictionary\n",
        "    embeddings_index[word] = coefs\n",
        "\n",
        "# Close the embeddings file\n",
        "f.close()"
      ],
      "execution_count": null,
      "outputs": []
    },
    {
      "cell_type": "markdown",
      "metadata": {
        "id": "v5bC84b6k-Bj"
      },
      "source": [
        "#**Create a weight matrix**"
      ]
    },
    {
      "cell_type": "code",
      "metadata": {
        "id": "npUFTwjFk-Bj"
      },
      "source": [
        "# Initialize a matrix of zeros with shape (vocab_size, 300) to hold the embedding vectors\n",
        "embedding_matrix = np.zeros((vocab_size, 300))\n",
        "\n",
        "# Loop through each word and its index in the tokenizer's word index\n",
        "for word, index in tokenizer.word_index.items():\n",
        "    # If the index is greater than or equal to vocab_size, break the loop\n",
        "    if index > vocab_size - 1:\n",
        "        break\n",
        "    else:\n",
        "        # Get the embedding vector for the word from the embeddings index\n",
        "        embedding_vector = embeddings_index.get(word)\n",
        "\n",
        "        # If the embedding vector is found, place it in the embedding matrix at the corresponding index\n",
        "        if embedding_vector is not None:\n",
        "            embedding_matrix[index] = embedding_vector"
      ],
      "execution_count": null,
      "outputs": []
    },
    {
      "cell_type": "markdown",
      "metadata": {
        "id": "FRA5Odbjk-Bl"
      },
      "source": [
        "#**Model Building**"
      ]
    },
    {
      "cell_type": "code",
      "metadata": {
        "id": "62MkZTi3k-Bm"
      },
      "source": [
        "# Setting the maximum length of the sequence\n",
        "max_len = 50"
      ],
      "execution_count": null,
      "outputs": []
    },
    {
      "cell_type": "code",
      "metadata": {
        "id": "U0VFa0lUk-Bo"
      },
      "source": [
        "# Define EarlyStopping callback to monitor validation loss and stop training if it doesn't improve for 10 epochs\n",
        "es = EarlyStopping(monitor='val_loss', verbose=1, patience=10)\n",
        "\n",
        "# Define ModelCheckpoint callback to save the best model based on validation loss\n",
        "mc = ModelCheckpoint('./saved_models/best_model.h5', save_best_only=True, verbose=1)\n"
      ],
      "execution_count": null,
      "outputs": []
    },
    {
      "cell_type": "code",
      "metadata": {
        "id": "bFkSlf0rr--k",
        "colab": {
          "base_uri": "https://localhost:8080/",
          "height": 118
        },
        "outputId": "35138be1-84b1-4e72-bdcd-a1735dd56bf2"
      },
      "source": [
        "# Getting the count of each sentiment\n",
        "df['sentiment'].value_counts()"
      ],
      "execution_count": null,
      "outputs": [
        {
          "output_type": "execute_result",
          "data": {
            "text/plain": [
              "neutral      8638\n",
              "worry        8459\n",
              "happiness    5209\n",
              "sadness      5165\n",
              "anger        5165\n",
              "Name: sentiment, dtype: int64"
            ]
          },
          "metadata": {
            "tags": []
          },
          "execution_count": 52
        }
      ]
    },
    {
      "cell_type": "markdown",
      "metadata": {
        "id": "UmrmsLIc_tfD"
      },
      "source": [
        "#**Building LSTM LAYERS**"
      ]
    },
    {
      "cell_type": "code",
      "metadata": {
        "id": "GsyCaqA2_sHe"
      },
      "source": [
        "# Initialize a sequential model\n",
        "model_lstm = Sequential()\n",
        "\n",
        "# Add an Embedding layer with pre-trained word embeddings, making it non-trainable\n",
        "model_lstm.add(Embedding(vocab_size, 300, weights=[embedding_matrix], input_length=max_len, trainable=False))\n",
        "\n",
        "# Add an LSTM layer with 128 units and dropout for regularization\n",
        "model_lstm.add(LSTM(128, dropout=0.5))\n",
        "\n",
        "# Add two Dense layers with 100 units and ReLU activation function\n",
        "model_lstm.add(Dense(100, activation='relu'))\n",
        "model_lstm.add(Dense(100, activation='relu'))\n",
        "\n",
        "# Add a Dense output layer with 5 units (for 5 classes) and softmax activation function\n",
        "model_lstm.add(Dense(5, activation='softmax'))\n",
        "\n",
        "# Compile the model with categorical cross-entropy loss, RMSprop optimizer, and accuracy metric\n",
        "model_lstm.compile(loss='categorical_crossentropy', optimizer='rmsprop', metrics=['accuracy'])"
      ],
      "execution_count": null,
      "outputs": []
    },
    {
      "cell_type": "markdown",
      "source": [
        "#**Summary of LSTM Model**"
      ],
      "metadata": {
        "id": "U4QSr6XAEANk"
      }
    },
    {
      "cell_type": "code",
      "metadata": {
        "id": "3QMgLhIM_sXN",
        "colab": {
          "base_uri": "https://localhost:8080/",
          "height": 319
        },
        "outputId": "af7365b3-2354-45f8-dce0-ebf72910884d"
      },
      "source": [
        "# Print a summary of the LSTM model architecture\n",
        "model_lstm.summary()"
      ],
      "execution_count": null,
      "outputs": [
        {
          "output_type": "stream",
          "text": [
            "Model: \"sequential_1\"\n",
            "_________________________________________________________________\n",
            "Layer (type)                 Output Shape              Param #   \n",
            "=================================================================\n",
            "embedding_1 (Embedding)      (None, 50, 300)           10353600  \n",
            "_________________________________________________________________\n",
            "lstm_1 (LSTM)                (None, 128)               219648    \n",
            "_________________________________________________________________\n",
            "dense_1 (Dense)              (None, 100)               12900     \n",
            "_________________________________________________________________\n",
            "dense_2 (Dense)              (None, 100)               10100     \n",
            "_________________________________________________________________\n",
            "dense_3 (Dense)              (None, 5)                 505       \n",
            "=================================================================\n",
            "Total params: 10,596,753\n",
            "Trainable params: 243,153\n",
            "Non-trainable params: 10,353,600\n",
            "_________________________________________________________________\n"
          ],
          "name": "stdout"
        }
      ]
    },
    {
      "cell_type": "markdown",
      "source": [
        "#**Label Encoding**"
      ],
      "metadata": {
        "id": "u01ShXD6EG5y"
      }
    },
    {
      "cell_type": "code",
      "metadata": {
        "id": "I09T0We3k-Bq"
      },
      "source": [
        "# Importing LabelEncoder from scikit-learn for encoding categorical target labels\n",
        "from sklearn.preprocessing import LabelEncoder\n",
        "\n",
        "# Instantiating a LabelEncoder object\n",
        "encoder = LabelEncoder()\n",
        "\n",
        "# Encoding the 'sentiment' column in the DataFrame df into numerical labels\n",
        "labels = encoder.fit_transform(df['sentiment'])\n",
        "\n",
        "# Converting the numerical labels into categorical format using to_categorical from Keras utilities\n",
        "labels = to_categorical(labels)"
      ],
      "execution_count": null,
      "outputs": []
    },
    {
      "cell_type": "markdown",
      "source": [
        "#**Training the LSTM Model**"
      ],
      "metadata": {
        "id": "7WLx0TbVEgoV"
      }
    },
    {
      "cell_type": "code",
      "metadata": {
        "id": "MJgfPLb8_sgs",
        "colab": {
          "base_uri": "https://localhost:8080/",
          "height": 386
        },
        "outputId": "d11678ca-aab9-4c62-982f-d328457c24f0"
      },
      "source": [
        "# Training the LSTM model on the provided data and labels\n",
        "model_lstm.fit(data,labels,validation_split=0.1,epochs=10)"
      ],
      "execution_count": null,
      "outputs": [
        {
          "output_type": "stream",
          "text": [
            "Train on 29372 samples, validate on 3264 samples\n",
            "Epoch 1/10\n",
            "29372/29372 [==============================] - 94s 3ms/step - loss: 1.4606 - accuracy: 0.3645 - val_loss: 1.2695 - val_accuracy: 0.4620\n",
            "Epoch 2/10\n",
            "29372/29372 [==============================] - 92s 3ms/step - loss: 1.2792 - accuracy: 0.4476 - val_loss: 1.0873 - val_accuracy: 0.5392\n",
            "Epoch 3/10\n",
            "29372/29372 [==============================] - 92s 3ms/step - loss: 1.1686 - accuracy: 0.4916 - val_loss: 1.0195 - val_accuracy: 0.5536\n",
            "Epoch 4/10\n",
            "29372/29372 [==============================] - 98s 3ms/step - loss: 1.1080 - accuracy: 0.5140 - val_loss: 1.0124 - val_accuracy: 0.5456\n",
            "Epoch 5/10\n",
            "29372/29372 [==============================] - 96s 3ms/step - loss: 1.0736 - accuracy: 0.5255 - val_loss: 0.9808 - val_accuracy: 0.5671\n",
            "Epoch 6/10\n",
            "29372/29372 [==============================] - 93s 3ms/step - loss: 1.0535 - accuracy: 0.5316 - val_loss: 0.9853 - val_accuracy: 0.5487\n",
            "Epoch 7/10\n",
            "29372/29372 [==============================] - 94s 3ms/step - loss: 1.0348 - accuracy: 0.5404 - val_loss: 0.9628 - val_accuracy: 0.5763\n",
            "Epoch 8/10\n",
            "29372/29372 [==============================] - 92s 3ms/step - loss: 1.0225 - accuracy: 0.5411 - val_loss: 0.9706 - val_accuracy: 0.5591\n",
            "Epoch 9/10\n",
            "29372/29372 [==============================] - 92s 3ms/step - loss: 1.0145 - accuracy: 0.5482 - val_loss: 0.9712 - val_accuracy: 0.5677\n",
            "Epoch 10/10\n",
            "29372/29372 [==============================] - 93s 3ms/step - loss: 1.0055 - accuracy: 0.5520 - val_loss: 0.9546 - val_accuracy: 0.5781\n"
          ],
          "name": "stdout"
        },
        {
          "output_type": "execute_result",
          "data": {
            "text/plain": [
              "<keras.callbacks.callbacks.History at 0x7fdacc8cb710>"
            ]
          },
          "metadata": {
            "tags": []
          },
          "execution_count": 56
        }
      ]
    },
    {
      "cell_type": "markdown",
      "source": [
        "#**Making Predictions**"
      ],
      "metadata": {
        "id": "YzCplEf3FDZp"
      }
    },
    {
      "cell_type": "code",
      "metadata": {
        "id": "0_rj6ByV_sn2",
        "colab": {
          "base_uri": "https://localhost:8080/",
          "height": 34
        },
        "outputId": "d89e6305-ba3a-408c-ed86-cc87a6f70961"
      },
      "source": [
        "# Example of making predictions using the trained LSTM model\n",
        "txt = [\"India Overtakes Russia As Third Worst-Hit Nation In COVID-19 Tally \"]\n",
        "\n",
        "# Convert text to sequences of tokens\n",
        "seq = tokenizer.texts_to_sequences(txt)\n",
        "\n",
        "# Pad sequences to a fixed length\n",
        "padded = pad_sequences(seq, maxlen=max_len)\n",
        "\n",
        "# Predict probabilities for each sentiment class\n",
        "pred = model_lstm.predict(padded)\n",
        "\n",
        "# Define labels corresponding to the sentiment classes\n",
        "labels = ['anger', 'happiness', 'neutral', 'sadness', 'worry']\n",
        "\n",
        "# Print predicted probabilities and corresponding sentiment label\n",
        "print(pred, labels[np.argmax(pred)])"
      ],
      "execution_count": null,
      "outputs": [
        {
          "output_type": "stream",
          "text": [
            "[[9.6584949e-07 8.5178383e-02 3.3274826e-01 1.9342424e-01 3.8864818e-01]] worry\n"
          ],
          "name": "stdout"
        }
      ]
    },
    {
      "cell_type": "code",
      "metadata": {
        "id": "69AMeRUg9zx1",
        "colab": {
          "base_uri": "https://localhost:8080/",
          "height": 34
        },
        "outputId": "81a605c6-c3c8-49ad-dc8b-89c8c440c72b"
      },
      "source": [
        "# Example of making predictions using the trained LSTM model for a positive text\n",
        "txt = [\"Won the lottery! yay!\"]\n",
        "\n",
        "# Convert text to sequences of tokens\n",
        "seq = tokenizer.texts_to_sequences(txt)\n",
        "\n",
        "# Pad sequences to a fixed length\n",
        "padded = pad_sequences(seq, maxlen=max_len)\n",
        "\n",
        "# Predict probabilities for each sentiment class\n",
        "pred = model_lstm.predict(padded)\n",
        "\n",
        "# Define labels corresponding to the sentiment classes\n",
        "labels = ['anger', 'happiness', 'neutral', 'sadness', 'worry']\n",
        "\n",
        "# Print predicted probabilities and corresponding sentiment label\n",
        "print(pred, labels[np.argmax(pred)])"
      ],
      "execution_count": null,
      "outputs": [
        {
          "output_type": "stream",
          "text": [
            "[[1.1098447e-05 5.3333604e-01 2.3383303e-01 7.5838119e-02 1.5698166e-01]]  happiness\n"
          ],
          "name": "stdout"
        }
      ]
    },
    {
      "cell_type": "markdown",
      "source": [
        "#**Saving the Model**"
      ],
      "metadata": {
        "id": "y__lY7NmFt-D"
      }
    },
    {
      "cell_type": "code",
      "metadata": {
        "id": "hyasgoa6Fosl"
      },
      "source": [
        "# Save the trained LSTM model to a file\n",
        "fp = './saved_models/best_model.h5'\n",
        "save_model(model_lstm,fp,include_optimizer=True)"
      ],
      "execution_count": null,
      "outputs": []
    },
    {
      "cell_type": "markdown",
      "source": [
        "#**Visualizing the Model Architecture**"
      ],
      "metadata": {
        "id": "t8wxu43GGB68"
      }
    },
    {
      "cell_type": "code",
      "metadata": {
        "id": "KcK88_Ew5vpv",
        "colab": {
          "base_uri": "https://localhost:8080/",
          "height": 644
        },
        "outputId": "c1d2c282-1a09-4dab-fe00-725d74822920"
      },
      "source": [
        "# Importing plot_model from Keras utilities for visualizing the model architecture\n",
        "from keras.utils.vis_utils import plot_model\n",
        "\n",
        "# Plotting the architecture of the LSTM model and saving it to a JPEG file\n",
        "plot_model(model_lstm, to_file='model_plot.jpeg', show_shapes=True, show_layer_names=True)\n"
      ],
      "execution_count": null,
      "outputs": [
        {
          "output_type": "execute_result",
          "data": {
            "image/jpeg": "[encoded data removed]",
            "text/plain": [
              "<IPython.core.display.Image object>"
            ]
          },
          "metadata": {
            "tags": []
          },
          "execution_count": 60
        }
      ]
    },
    {
      "cell_type": "markdown",
      "source": [
        "#**Building a Neural Network with LSTM**"
      ],
      "metadata": {
        "id": "Yy9NQqRfIa_t"
      }
    },
    {
      "cell_type": "code",
      "metadata": {
        "id": "R7bHpczteqmj"
      },
      "source": [
        "def create_nn():\n",
        "\n",
        "  # Initialize a sequential model\n",
        "  model = Sequential()\n",
        "\n",
        "  # Add an embedding layer with pre-trained embeddings\n",
        "  model.add(Embedding(vocab_size, 300, weights=[embedding_matrix], input_length=max_len, trainable=False))\n",
        "\n",
        "  # Add LSTM layer with dropout\n",
        "  model.add(LSTM(128, dropout=0.5))\n",
        "\n",
        "  # Add dense layers with ReLU activation\n",
        "  model.add(Dense(100, activation='relu'))\n",
        "  model.add(Dense(100, activation='relu'))\n",
        "\n",
        "  # Output layer with softmax activation for multiclass classification\n",
        "  model.add(Dense(5, activation='softmax'))\n",
        "\n",
        "  # Compile the model with categorical crossentropy loss and rmsprop optimizer\n",
        "  model.compile(loss='categorical_crossentropy', optimizer='rmsprop', metrics=['accuracy'])\n",
        "\n",
        "  return model"
      ],
      "execution_count": null,
      "outputs": []
    },
    {
      "cell_type": "markdown",
      "source": [
        "#**Label Encoding**"
      ],
      "metadata": {
        "id": "ilVmBSYaJBzP"
      }
    },
    {
      "cell_type": "code",
      "metadata": {
        "id": "xUkwNsoffkYf"
      },
      "source": [
        "# Import Label Encoder\n",
        "from sklearn.preprocessing import LabelEncoder\n",
        "\n",
        "# Initialize LabelEncoder to convert categorical labels to numerical format\n",
        "encoder = LabelEncoder()\n",
        "\n",
        "# Fit LabelEncoder on the 'sentiment' column of DataFrame df and transform labels to numerical values\n",
        "labels = encoder.fit_transform(df['sentiment'])\n",
        "\n",
        "# Convert numerical labels to categorical format for neural network training\n",
        "labels = to_categorical(labels)\n"
      ],
      "execution_count": null,
      "outputs": []
    },
    {
      "cell_type": "markdown",
      "source": [
        "#**Evaluating Neural Network using Three-Fold Cross Validation**"
      ],
      "metadata": {
        "id": "Lr3QNLZyJs3D"
      }
    },
    {
      "cell_type": "code",
      "metadata": {
        "id": "M4TLhYQ3tTM6",
        "colab": {
          "base_uri": "https://localhost:8080/",
          "height": 34
        },
        "outputId": "a7fdd2a4-6d8e-40cf-f3e4-1f68e043871b"
      },
      "source": [
        "# Import necessary libraries\n",
        "from sklearn.model_selection import cross_val_score\n",
        "from keras.wrappers.scikit_learn import KerasClassifier\n",
        "\n",
        "# Define a KerasClassifier wrapper around the create_nn function for use in scikit-learn\n",
        "neural_network = KerasClassifier(build_fn=create_nn, epochs=10, verbose=0)\n",
        "\n",
        "# Perform three-fold cross-validation on the neural network model using data and labels\n",
        "cross_val_score(neural_network, data, labels, cv=3)\n"
      ],
      "execution_count": null,
      "outputs": [
        {
          "output_type": "execute_result",
          "data": {
            "text/plain": [
              "array([0.55060208, 0.55703652, 0.55166394])"
            ]
          },
          "metadata": {
            "tags": []
          },
          "execution_count": 63
        }
      ]
    }
  ]
}